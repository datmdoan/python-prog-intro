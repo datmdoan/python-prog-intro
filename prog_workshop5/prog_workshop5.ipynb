{
 "metadata": {
  "name": "",
  "signature": "sha256:b47ebc2b19c09fff5da065bdcebc2c3ea9de8676bee4a1f534298df0ef8c74d3"
 },
 "nbformat": 3,
 "nbformat_minor": 0,
 "worksheets": [
  {
   "cells": [
    {
     "cell_type": "heading",
     "level": 1,
     "metadata": {},
     "source": [
      "Introduction to programming 5"
     ]
    },
    {
     "cell_type": "markdown",
     "metadata": {},
     "source": [
      "Clyde Fare and Jo\u00e3o Pedro Malhado, Imperial College London (contact: [python@imperial.ac.uk](mailto:python@imperial.ac.uk))\n",
      "\n",
      "Notebook is licensed under a [Creative Commons Attribution 4.0 (CC-by) license](http://creativecommons.org/licenses/by/4.0/)."
     ]
    },
    {
     "cell_type": "heading",
     "level": 2,
     "metadata": {},
     "source": [
      "Overview"
     ]
    },
    {
     "cell_type": "heading",
     "level": 3,
     "metadata": {},
     "source": [
      "Adjacent averages"
     ]
    },
    {
     "cell_type": "markdown",
     "metadata": {},
     "source": [
      "$$\\underbrace{x_1,x_2}_{\\overline{x}_1},\\underbrace{x_3,x_4}_{\\overline{x}_2},\\underbrace{x_5,x_6}_{\\overline{x}_3},\\underbrace{x_7,x_8}_{\\overline{x}_4},\\underbrace{x_9,\\cdots}$$\n",
      "\n",
      "$$\\underbrace{x_1,x_2,x_3}_{\\overline{x}_1},\\underbrace{x_4,x_5,x_6}_{\\overline{x}_2},\\underbrace{x_7,x_8,x_9}_{\\overline{x}_3},\\cdots$$"
     ]
    },
    {
     "cell_type": "heading",
     "level": 3,
     "metadata": {},
     "source": [
      "Moving averages"
     ]
    },
    {
     "cell_type": "markdown",
     "metadata": {},
     "source": [
      "$$\\def\\lefteqn#1{\\rlap{\\displaystyle{#1}}}\n",
      "\\lefteqn{\\underbrace{\\phantom{x_1,x_2}}_{\\overline{x}_1}}x_1,\\underbrace{x_2,\\lefteqn{\\underbrace{\\phantom{x_3,x_4}}_{\\overline{x}_3}}x_3}_{\\overline{x}_2},\\underbrace{x_4,\\lefteqn{\\underbrace{\\phantom{x_4,x_5}}_{\\overline{x}_5}}x_5}_{\\overline{x}_4},\\underbrace{x_6,\\lefteqn{\\underbrace{\\phantom{x_6,x_7}}_{\\overline{x}_7}}x_7}_{\\overline{x}_6},\\underbrace{x_8,\\lefteqn{\\underbrace{\\phantom{x_8,}\\cdots}_{\\phantom{\\overline{x}_9}}}x_9}_{\\overline{x}_8},$$\n",
      "\n",
      "$$%\\def\\lefteqn#1{\\rlap{\\displaystyle{#1}}} \\lefteqn{\\underbrace{\\phantom{x_1,x_2}}_{\\overline{x}_1}}x_1,\\lefteqn{\\underbrace{\\phantom{x_2,x_3}}_{\\overline{x}_2}}x_2,\\lefteqn{\\underbrace{\\phantom{x_3,x_4}}_{\\overline{x}_3}}x_3,\\lefteqn{\\underbrace{\\phantom{x_4,x_5}}_{\\overline{x}_4}}x_4,\\lefteqn{\\underbrace{\\phantom{x_5,x_6}}_{\\overline{x}_5}}x_5,\\lefteqn{\\underbrace{\\phantom{x_6,x_7}}_{\\overline{x}_6}}x_6,\\lefteqn{\\underbrace{\\phantom{x_7,x_8}}_{\\overline{x}_7}}x_7,\\lefteqn{\\underbrace{\\phantom{x_8,x9}}_{\\overline{x}_8}}x_8,x_9,\\cdots$$\n",
      "\n",
      "$$\\def\\lefteqn#1{\\rlap{\\displaystyle{#1}}}\n",
      "\\lefteqn{\\underbrace{\\phantom{x_1,x_2,x_3}}_{\\overline{x}_1}}x_1,\\lefteqn{\\underbrace{\\phantom{\\underbrace{x_2,x_3,x_4}_{\\overline{x}}}}_{\\overline{x}_2}}x_2,\\lefteqn{\\underbrace{\\phantom{\\underbrace{\\underbrace{x_3,x_4,x_5}_{\\overline{x}}}_{\\overline{x}}}}_{\\overline{x}_3}}x_3,\\lefteqn{\\underbrace{\\phantom{x_4,x_5,x_6}}_{\\overline{x}_4}}x_4,\\lefteqn{\\underbrace{\\phantom{\\underbrace{x_5,x_6,x_7}_{\\overline{x}}}}_{\\overline{x}_5}}x_5,\\lefteqn{\\underbrace{\\phantom{\\underbrace{\\underbrace{x_6,x_7,x_8}_{\\overline{x}}}_{\\overline{x}}}}_{\\overline{x}_6}}x_6,\\lefteqn{\\underbrace{\\phantom{x_7,x_8,x_9}}_{\\overline{x}_7}}x_7,\\lefteqn{\\underbrace{\\phantom{\\underbrace{x_8,x_9,x_10}_{\\overline{x}}}}_{\\overline{x}_8}}x_8,x_9,\\cdots$$\n",
      "\n",
      "$$%\\def\\lefteqn#1{\\rlap{\\displaystyle{#1}}} \\lefteqn{\\underbrace{\\phantom{x_1,x_2,x_3}}_{\\overline{x}_1}}x_1,\\lefteqn{\\underbrace{\\phantom{x_2,x_3,x_4}}_{\\overline{x}_2}}x_2,\\lefteqn{\\underbrace{\\phantom{x_3,x_4,x_5}}_{\\overline{x}_3}}x_3,\\lefteqn{\\underbrace{\\phantom{x_4,x_5,x_6}}_{\\overline{x}_4}}x_4,\\lefteqn{\\underbrace{\\phantom{x_5,x_6,x_7}}_{\\overline{x}_5}}x_5,\\lefteqn{\\underbrace{\\phantom{x_6,x_7,x_8}}_{\\overline{x}_6}}x_6,\\lefteqn{\\underbrace{\\phantom{x_7,x_8,x_9}}_{\\overline{x}_7}}x_7,\\lefteqn{\\underbrace{\\phantom{x_8,x9,x10}}_{\\overline{x}_8}}x_8,x_9,\\cdots$$"
     ]
    },
    {
     "cell_type": "code",
     "collapsed": false,
     "input": [],
     "language": "python",
     "metadata": {},
     "outputs": []
    }
   ],
   "metadata": {}
  }
 ]
}