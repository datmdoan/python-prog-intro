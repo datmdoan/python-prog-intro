{
 "metadata": {
  "name": ""
 },
 "nbformat": 3,
 "nbformat_minor": 0,
 "worksheets": [
  {
   "cells": [
    {
     "cell_type": "code",
     "collapsed": false,
     "input": [
      "import numpy as np\n",
      "from scipy.optimize import curve_fit\n",
      "def extract_distances(data_file, atom_symbol):\n",
      "    with open(data_file) as data_f:\n",
      "        file_contents = data_f.readlines()\n",
      "    \n",
      "    total_atom_lines = [l for l in file_contents if atom_symbol in l.split() and not 'sanity check failed' in l]\n",
      "    \n",
      "    first_atom_lines = [l for i,l in enumerate(total_atom_lines) if not i%2] \n",
      "    second_atom_lines = [l for i,l in enumerate(total_atom_lines) if i%2]\n",
      "    \n",
      "    #each line is X x1 y1 z1\n",
      "    first_atom_coords = [np.array(l.split()[1:], 'd') for l in first_atom_lines]\n",
      "    second_atom_coords = [np.array(l.split()[1:], 'd') for l in second_atom_lines]\n",
      "    \n",
      "    dimer_vecs = [first_atom_coords[i] - second_atom_coords[i] for i in range(len(first_atom_coords))]\n",
      "    dimer_dists = [np.linalg.norm(v) for v in dimer_vecs]\n",
      "    \n",
      "    return dimer_dists\n",
      "\n",
      "def extract_energies(data_file):\n",
      "    with open(data_file) as data_f:\n",
      "        file_contents = data_f.readlines()\n",
      "\n",
      "    raw_Es = [l for l in file_contents if 'Total Energy              = ' in l]\n",
      "    energies = [float(l.split()[3]) for l in raw_Es]\n",
      "    return energies\n",
      "\n",
      "def extract_energy(data_file):\n",
      "    return extract_energies(data_file)[0]\n",
      "\n",
      "def get_dissociation_energies(dimer_energies, atom_energy)\n",
      "\n",
      "def fit_lennard(energies, distances):\n",
      "    '''\n",
      "    >>> fit_lennard(extract_energies('final_project_data/He2.out'), extract_distances('final_project_data/He2.out', 'HE')\n",
      "    '''\n",
      "    guess_epsilon = -min(energies)\n",
      "    guess_sigma = distances[energies.index(min(energies))]/2**(1/6)\n",
      "                                           \n",
      "    params, conv = curve_fit(lennard_jones, distances, energies, p0=(guess_epsilon, guess_sigma))\n",
      "    return params"
     ],
     "language": "python",
     "metadata": {},
     "outputs": [],
     "prompt_number": 3
    },
    {
     "cell_type": "code",
     "collapsed": false,
     "input": [
      "def lennard_jones(r, epsilon, sigma):\n",
      "    v =  4*epsilon*(-(sigma/r)**6 + (sigma/r)**12)\n",
      "    return(v)"
     ],
     "language": "python",
     "metadata": {},
     "outputs": [],
     "prompt_number": 6
    },
    {
     "cell_type": "code",
     "collapsed": false,
     "input": [
      "fit_lennard(extract_energies('final_project_data/Ne2.out'), extract_distances('final_project_data/Ne2.out', 'HE'))"
     ],
     "language": "python",
     "metadata": {},
     "outputs": [
      {
       "metadata": {},
       "output_type": "pyout",
       "prompt_number": 7,
       "text": [
        "array([ 9.24302436,  2.46922884])"
       ]
      }
     ],
     "prompt_number": 7
    },
    {
     "cell_type": "code",
     "collapsed": false,
     "input": [],
     "language": "python",
     "metadata": {},
     "outputs": []
    }
   ],
   "metadata": {}
  }
 ]
}