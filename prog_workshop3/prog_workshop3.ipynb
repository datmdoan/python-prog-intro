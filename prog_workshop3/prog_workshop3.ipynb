{
 "metadata": {
  "name": "",
  "signature": "sha256:0db077e6ac44b0f888d4b2e53e83ff4c9f38b2e4d1a711db1a25fea7ef17d59c"
 },
 "nbformat": 3,
 "nbformat_minor": 0,
 "worksheets": [
  {
   "cells": [
    {
     "cell_type": "heading",
     "level": 1,
     "metadata": {},
     "source": [
      "Introduction to programming 3"
     ]
    },
    {
     "cell_type": "markdown",
     "metadata": {},
     "source": [
      "[Clyde Fare](mailto:python@imperial.ac.uk) and [Jo\u00e3o Pedro Malhado](mailto:python@imperial.ac.uk), Imperial College London\n",
      "\n",
      "This notebook is licensed under a [Creative Commons Attribution 4.0 (CC-by) license](http://creativecommons.org/licenses/by/4.0/), except <a href=\"#battleship\">this section</a> which is addapted from <a href=\"https://erlerobotics.gitbooks.io/erle-robotics-learning-python-gitbook-free/content/exercisebattleship/battleship.html\">Erle Robotics S.L. book</a> and is licensed under [Creative Commons Attribution-NonCommercial-ShareAlike 4.0 (CC-by-NC-SA) license](http://creativecommons.org/licenses/by-nc-sa/4.0/)."
     ]
    },
    {
     "cell_type": "heading",
     "level": 2,
     "metadata": {},
     "source": [
      "Overview"
     ]
    },
    {
     "cell_type": "markdown",
     "metadata": {},
     "source": [
      "In the last workshop of this series we finished covering the most important building blocks of the Python programming language, which are indeed common to many other programming languages (with only syntactic variations). We are thus now equiped to tackle all sorts of problems, and the major challange in programming is to break down the solution to a given problem and express/translate our solution into this language we have learned. The best way to achieve proficiency at doing this is by actual practice.\n",
      "\n",
      "In the first part of this workshop we shall not be introducing new language elements, and will be focussing instead in a few examples and problems, and looking at some constructs that appear in practice.\n",
      "\n",
      "We will also look at how to use pieces of code built by other in the form of modules.\n",
      "\n",
      "In the second part of the workshop, we will see how to ask for user input and how to run python programs outside of the notebook. We will end by programming a very simple computer game."
     ]
    },
    {
     "cell_type": "heading",
     "level": 2,
     "metadata": {},
     "source": [
      "Warm up"
     ]
    },
    {
     "cell_type": "markdown",
     "metadata": {},
     "source": [
      "In the last workshop we learned how loops work, how they introduce repetition in the program, and how by repeating relativelly simple operations a complex result can be achieved. We have also seen how to use functions to encapsulate functionality to be reused in different parts of the program.\n",
      "\n",
      "To review both of these notions we will now create a function *reverse_string()* which given a string will return another string with the characters of the argument string in the reverse order. An example of the function result is\n",
      "\n",
      "    reverse_string('Rewarder') -> 'redraweR'\n",
      "    \n",
      "In the cell bellow we provide the backbones of how this function could look like, and you should fill in the gaps to make it functional"
     ]
    },
    {
     "cell_type": "code",
     "collapsed": false,
     "input": [
      "def reverse_string(input_string):\n",
      "    \"Reverses the order of the characters in input_string\"\n",
      "    \n",
      "    rev=''\n",
      "    for\n",
      "        rev=rev+\n",
      "    return rev"
     ],
     "language": "python",
     "metadata": {},
     "outputs": []
    },
    {
     "cell_type": "markdown",
     "metadata": {},
     "source": [
      "Note how the function is set up, with *input_string* as an argument of the function, and *rev* as a local variable that will be returned.\n",
      "\n",
      "Also note the common structure of the loop: we define a result variable (here called *rev*), and update it's value in the loop body. In this case, the function output is directly the result variable.\n",
      "\n",
      "The great advantage of defining a function is that we can now apply it to many different cases without rewritting the same code again and again. Let's use it then\n",
      "\n",
      "    reverse_string('0123')"
     ]
    },
    {
     "cell_type": "code",
     "collapsed": false,
     "input": [],
     "language": "python",
     "metadata": {},
     "outputs": []
    },
    {
     "cell_type": "markdown",
     "metadata": {},
     "source": [
      "    reverse_string('Noon')"
     ]
    },
    {
     "cell_type": "code",
     "collapsed": false,
     "input": [],
     "language": "python",
     "metadata": {},
     "outputs": []
    },
    {
     "cell_type": "markdown",
     "metadata": {},
     "source": [
      "    reverse_string('stressed')"
     ]
    },
    {
     "cell_type": "code",
     "collapsed": false,
     "input": [],
     "language": "python",
     "metadata": {},
     "outputs": []
    },
    {
     "cell_type": "heading",
     "level": 2,
     "metadata": {},
     "source": [
      "Nested loops"
     ]
    },
    {
     "cell_type": "markdown",
     "metadata": {},
     "source": [
      "Data will often take the form of lists (which can be seen as 2D or higher dimension lists), and we might be interested in doing operations on, or use every element of the these lists. Such operations often require running more than one loop simultaneously. Let us look at the example case of the following table\n",
      "\n",
      "    table=[[1,1.2,'a'],\n",
      "           [2,2.3,'b'],\n",
      "           [3,3.4,'c']]"
     ]
    },
    {
     "cell_type": "code",
     "collapsed": false,
     "input": [],
     "language": "python",
     "metadata": {},
     "outputs": []
    },
    {
     "cell_type": "markdown",
     "metadata": {},
     "source": [
      "First, we will print *x&#42;2* for every *x* element of *table* (note that this operarion exist for both numbers and strings but with different effects). To do this we need 2 loops:\n",
      "\n",
      "* The first will loop through the elements of *table*: i.e. each of the inner lists.\n",
      "* The second will loop through the elements of the inner lists.\n",
      "\n",
      "It will look like the following:\n",
      "\n",
      "    for row in table:\n",
      "        for x in row:\n",
      "            print(2*x)"
     ]
    },
    {
     "cell_type": "code",
     "collapsed": false,
     "input": [],
     "language": "python",
     "metadata": {},
     "outputs": []
    },
    {
     "cell_type": "markdown",
     "metadata": {},
     "source": [
      "We are using loop variable names that are indicative of what these variables are in the algorithm. THe first foor loop is \"picking out\" the rows of the table/inner lists. For each value of *row*, the second loop is \"pickin out\" individual elements of *row*.\n",
      "\n",
      "It is perhaps helpful to introduce some print statements to better understand what the code is doing. It is important to note indentation and which print statement belongs to which loop body to understand when it is being executed\n",
      "\n",
      "    for row in table:\n",
      "        print('row=',row)\n",
      "        for x in row:\n",
      "            print('x=',x)\n",
      "            print(2*x)"
     ]
    },
    {
     "cell_type": "code",
     "collapsed": false,
     "input": [],
     "language": "python",
     "metadata": {},
     "outputs": []
    },
    {
     "cell_type": "markdown",
     "metadata": {},
     "source": [
      "If it is not clear how the nested loops are working, please ask a demonstrator.\n",
      "\n",
      "We could obtain exactly the same results by using indexes to extract the elements of *table*.\n",
      "\n",
      "    for i in range(3):\n",
      "        for j in range(3):\n",
      "            print(2*table[i][j])"
     ]
    },
    {
     "cell_type": "code",
     "collapsed": false,
     "input": [],
     "language": "python",
     "metadata": {},
     "outputs": []
    },
    {
     "cell_type": "markdown",
     "metadata": {},
     "source": [
      "Adding some print statements to make clearer\n",
      "\n",
      "    for i in range(3):\n",
      "        print(\"i=\",i)\n",
      "        for j in range(3):\n",
      "            print(\"j=\",j)\n",
      "            print(\"table[i][j]=\",table[i][j])\n",
      "            print(2*table[i][j])"
     ]
    },
    {
     "cell_type": "code",
     "collapsed": false,
     "input": [],
     "language": "python",
     "metadata": {},
     "outputs": []
    },
    {
     "cell_type": "markdown",
     "metadata": {},
     "source": [
      "Note that the loop variables are integers in this case, running from 0 to 2. In this case we know the shape of the array and can set the loop bounds with range(3). In cases when we don't know, or don't want to know, the size of the table we are dealing with, we can write a more generic form\n",
      "\n",
      "    for i in range(len(table)):\n",
      "        for j in range(len(table[i])):\n",
      "            print(2*table[i][j])"
     ]
    },
    {
     "cell_type": "code",
     "collapsed": false,
     "input": [],
     "language": "python",
     "metadata": {},
     "outputs": []
    },
    {
     "cell_type": "markdown",
     "metadata": {},
     "source": [
      "We have just shown that we can loop over list elements or list indexes to obtain the same result. The first way is often simpler and more natural in Python, while the second way is more common in most other programming languages.\n",
      "\n",
      "There are some cases when using indexes can be handy. For example, until now we have been printing the result of the operations following each row \"horizontally\", and moving to the next row \"below\" it. Write some code using indexes that will perform the same operation but following down the columns of *table*."
     ]
    },
    {
     "cell_type": "code",
     "collapsed": false,
     "input": [],
     "language": "python",
     "metadata": {},
     "outputs": []
    },
    {
     "cell_type": "markdown",
     "metadata": {},
     "source": [
      "Up to now we have been performing operations on every element of the list and printing the result to the screen. This is not a particularly useful operation, and we often want to make a transformation to the full table and keep it. We can do this by building a new table *tablet2*\n",
      "\n",
      "    tablet2=[]\n",
      "    for row in table:\n",
      "        new_row=[]\n",
      "        for x in row:\n",
      "            new_row=new_row+[2*x]\n",
      "        tablet2=tablet2+[new_row]\n",
      "        \n",
      "    tablet2"
     ]
    },
    {
     "cell_type": "code",
     "collapsed": false,
     "input": [],
     "language": "python",
     "metadata": {},
     "outputs": []
    },
    {
     "cell_type": "markdown",
     "metadata": {},
     "source": [
      "Note that we have defined 2 result variables, *tablet2* and *new_row*, each updated on a different loop. *tablet2* is initialized to an empty list and is updated at the end of the body of the first loop. *new_row* is initialized to an empty list **in each cycle** of the first loop, build up inside the second loop, and appended to *tablet2* after the second loop has finished.\n",
      "\n",
      "This is a comon construction when building new tables, it is important that you understand how it works. If it is not completelly clear, try adding some print statements to the code above."
     ]
    },
    {
     "cell_type": "markdown",
     "metadata": {},
     "source": [
      "Although very common in 2D lists, nested loops also occur in other contexts.\n",
      "As an example, we will now consider how to generate a list of all the prime numbers below 100. We will approach the problem in the simplest, if not very efficient, way: we will loop through every number between 1 and 100 and test if each of them is a prime number. To test if each number is a prime we need a second loop where we test if the number is devisable by any of the numbers smaller than itself.\n",
      "\n",
      "We will provide the backbone of the code and let you fill the gaps to make it functional."
     ]
    },
    {
     "cell_type": "code",
     "collapsed": false,
     "input": [
      "primes=[]\n",
      "for i in range(1,100):\n",
      "    is_prime=True\n",
      "    for j in range():\n",
      "        if % ==0:\n",
      "            is_prime=\n",
      "    if :\n",
      "        primes=\n",
      "        \n",
      "primes"
     ],
     "language": "python",
     "metadata": {},
     "outputs": []
    },
    {
     "cell_type": "markdown",
     "metadata": {},
     "source": [
      "Although common, this type of nested loops can get relatively complicated to read and understand. It is often possible to avoid them by defining a function that will do the work being done in the inner loop seperatly.\n",
      "\n",
      "In the case of the list of prime numbers, we could make our lives easier if we define a function *isprime()* that will return a boolean indicating if the argument is a prime number. Define such a function below.\n",
      "\n",
      "(If you are feeling confident, you can define your function using a while loop instead of a for loop. Note that if a number is devisible, for example by 2, we already know the number is not a prime, so no need to test division by other numbers. This will make the program more efficient as it will do fewer loop steps.)"
     ]
    },
    {
     "cell_type": "code",
     "collapsed": false,
     "input": [],
     "language": "python",
     "metadata": {},
     "outputs": []
    },
    {
     "cell_type": "markdown",
     "metadata": {},
     "source": [
      "Use the function isprime() to retrieve the list of the prime numbers below 100"
     ]
    },
    {
     "cell_type": "code",
     "collapsed": false,
     "input": [],
     "language": "python",
     "metadata": {},
     "outputs": []
    },
    {
     "cell_type": "heading",
     "level": 3,
     "metadata": {},
     "source": [
      "Sorting"
     ]
    },
    {
     "cell_type": "markdown",
     "metadata": {},
     "source": [
      "Sorting the elements of a list is another operation that requires the use of nested loops. This is an important operation in many contexts and although simple to state, there are [many different algorithms](https://en.wikipedia.org/wiki/Sorting_algorithm) to achieve this task (performance can be a concern for big or frequent operations, think about sorting Twitter message by time).\n",
      "\n",
      "Although Python has the built-in function *sorted()* and the list method *.sort()* to do this operation, we will be looking at a variation of the simple Insert Sort algorithm in order to practice more general implementations.\n",
      "\n",
      "We will build a new ordered list by taking elements of the original list in sequence and inserting them in the new ordered list in a position that keeps such list in the right order. Let us try to picture how it would work:\n",
      "\n",
      "*Step 0:* initial state\n",
      "\n",
      "    original_list=[3,1,2]\n",
      "    ordered_list=[]\n",
      "    \n",
      "*Step 1:* we pick the first element of the orginial_list and place it in the ordered_list\n",
      "\n",
      "                   |\n",
      "    original_list=[3,1,2]\n",
      "    ordered_list=[3]\n",
      "\n",
      "*Step 2:* select the second element of original_list and place it in position 0 of the ordered_list\n",
      "\n",
      "                     |\n",
      "    original_list=[3,1,2]\n",
      "    ordered_list=[1,3]\n",
      "\n",
      "*Step 3:* select the third element of the original_list and place it in position 1 of the ordered_list\n",
      "\n",
      "                      |\n",
      "    original_list[3,1,2]\n",
      "    ordered_list[1,2,3]\n",
      "\n",
      "Remember from the first workshop how to insert an element in a list in a specific position? (You can also use the *.insert()* list method to do this operation.)\n",
      "\n",
      "    ordered_list=[1,2,4,5,6]\n",
      "    ordered_list[2:2]=[3]"
     ]
    },
    {
     "cell_type": "code",
     "collapsed": false,
     "input": [],
     "language": "python",
     "metadata": {},
     "outputs": []
    },
    {
     "cell_type": "markdown",
     "metadata": {},
     "source": [
      "Perhaps it is already apparent where the nested loop structure is comming from in the algorithm above:\n",
      "\n",
      "* First loop to select the elements of the original list in turn.\n",
      "* Second loop to check in which position to insert the new element in the ordered list.\n",
      "\n",
      "Instead of trying to implement the algorithm all in one piece of code, we will split out the task of inserting elements in the correct position of an ordered list. Define the function *insert_in_order(num,ordered_list)* which will receive  as arguments a number and an ordered list, and will return an ordered list where the number passed will be in the correct position."
     ]
    },
    {
     "cell_type": "code",
     "collapsed": false,
     "input": [],
     "language": "python",
     "metadata": {},
     "outputs": []
    },
    {
     "cell_type": "markdown",
     "metadata": {},
     "source": [
      "Test is your insert_in_order() function\n",
      "\n",
      "    olist=list(range(0,20,3))\n",
      "    insert_in_order(8,olist)    "
     ]
    },
    {
     "cell_type": "code",
     "collapsed": false,
     "input": [],
     "language": "python",
     "metadata": {},
     "outputs": []
    },
    {
     "cell_type": "markdown",
     "metadata": {},
     "source": [
      "Now define a function *insert_sort(unordered_list)* that receives an unordered list as argument and returns an ordered list with the same elements, that uses the *insert_in_order()* function defined above."
     ]
    },
    {
     "cell_type": "code",
     "collapsed": false,
     "input": [],
     "language": "python",
     "metadata": {},
     "outputs": []
    },
    {
     "cell_type": "markdown",
     "metadata": {},
     "source": [
      "Does it work?\n",
      "\n",
      "    insert_order([91, 80, 34, 97,  9, 93, 50, 49,  6, 46])"
     ]
    },
    {
     "cell_type": "code",
     "collapsed": false,
     "input": [],
     "language": "python",
     "metadata": {},
     "outputs": []
    },
    {
     "cell_type": "heading",
     "level": 2,
     "metadata": {},
     "source": [
      "2D particle in a box"
     ]
    },
    {
     "cell_type": "markdown",
     "metadata": {},
     "source": [
      "You are familiar with the model of a particle in a two-demensional square box in quantum mechanics. In this model the wavefunction and the energy of the system are\n",
      "\n",
      "$$\\psi(x,y,n_x,n_y)=\\frac{2}{L}\\sin\\left(\\frac{n_x \\pi x}{L}\\right)\\sin\\left(\\frac{n_y \\pi y}{L}\\right),$$\n",
      "\n",
      "$$E(n_x,n_y)=\\frac{\\hbar^2 \\pi^2}{2 m L^2}\\left({n_x}^2+{n_y}^2\\right).$$\n",
      "\n",
      "In these equations $x$ and $y$ are the spacial coordinates, $n_x$ and $n_y$ are the quantum numbers, while $L$ and $m$ are the dimension of the box and the particle mass respectivelly.\n",
      "\n",
      "In what follows we will consider that we are dealing with one electron, and we will be working in atomic units. This means that we have $\\hbar=1$ and $m=1$. We will further consider that $L=1$.\n",
      "\n",
      "In this section we would want to make a list of the energy of the system as a function of the quantum numbers.\n",
      "\n",
      "Let us first define two functions. The first one, we shall call *box2d_wf(x,y,nx,ny)*, returning the value of the wavefunction of the system as a function of the spacial coordinates x and y, and the quantum numbers nx and ny."
     ]
    },
    {
     "cell_type": "code",
     "collapsed": false,
     "input": [],
     "language": "python",
     "metadata": {},
     "outputs": []
    },
    {
     "cell_type": "markdown",
     "metadata": {},
     "source": [
      "The second function, we will call *box2d_e(nx,ny)*, will return the energy of the system in atomic units as a function of the 2 quantum numbers."
     ]
    },
    {
     "cell_type": "code",
     "collapsed": false,
     "input": [],
     "language": "python",
     "metadata": {},
     "outputs": []
    },
    {
     "cell_type": "markdown",
     "metadata": {},
     "source": [
      "We now want to generate a list, where each element is another list of the form [nx,ny,E(nx,ny)], for the 16 states with nx and ny values up to 5."
     ]
    },
    {
     "cell_type": "code",
     "collapsed": false,
     "input": [],
     "language": "python",
     "metadata": {},
     "outputs": []
    },
    {
     "cell_type": "markdown",
     "metadata": {},
     "source": [
      "In order to check your result, you can apply the function *box2d_grid()* to your table. You will obtain a plot with the corresponding wavefunctions."
     ]
    },
    {
     "cell_type": "code",
     "collapsed": false,
     "input": [
      "%pylab inline\n",
      "\n",
      "def box2d_grid(l):\n",
      "    \"Generate grid plot from a list of quantum numbers and energies.\"\n",
      "    \n",
      "    grid=meshgrid(linspace(0,1,60),linspace(0,1,60)) \n",
      "    rowt=int(max(array(l)[:,1]))\n",
      "    colt=int(max(array(l)[:,0]))\n",
      "    fig=subplots(rowt,colt,figsize=(10,10),sharex='col',sharey='row')\n",
      "    plot_area=fig[0]\n",
      "    graph_grid=fig[1]\n",
      "    plot_area.text(0.5,0.05,'x')\n",
      "    plot_area.text(0.05,0.5,'y')\n",
      "\n",
      "    for el in l:\n",
      "        wf=box2d_wf(grid[0],grid[1],el[0],el[1])\n",
      "        graph_grid[el[0]-1,el[1]-1].pcolor(grid[0],grid[1],wf,vmin=-2,vmax=2)\n",
      "        graph_grid[el[0]-1,el[1]-1].set_title('E('+str(el[0])+','+str(el[1])+')='+str(round(el[2],2))+'au')\n",
      "    \n",
      "    show()"
     ],
     "language": "python",
     "metadata": {},
     "outputs": []
    },
    {
     "cell_type": "code",
     "collapsed": false,
     "input": [],
     "language": "python",
     "metadata": {},
     "outputs": []
    },
    {
     "cell_type": "markdown",
     "metadata": {},
     "source": [
      "Now sort your list in increasing order of energy. For this you can addapt the code of inser_in_order() above such that it will produce the desired result in this case. Alternativelly you can use the function [sorted()](https://docs.python.org/3.3/library/functions.html#sorted), but you would need to read the documentation and define an auxiliar function to produce the desired result."
     ]
    },
    {
     "cell_type": "code",
     "collapsed": false,
     "input": [],
     "language": "python",
     "metadata": {},
     "outputs": []
    },
    {
     "cell_type": "markdown",
     "metadata": {},
     "source": [
      "The function *box2d_stack()* will produce some more pretty pictures from your list, respecting the order of the energies. Were they sorted correctly?"
     ]
    },
    {
     "cell_type": "code",
     "collapsed": false,
     "input": [
      "def box2d_stack(l):\n",
      "    \"Generate a stack of plots from a list of quantum numbers and energies.\"\n",
      "    \n",
      "    processed_l=[[l[0]]]\n",
      "    for el in l[1:]:\n",
      "        if el[2]==processed_l[-1][-1][2]:\n",
      "            processed_l[-1]=processed_l[-1]+[el]\n",
      "        else:\n",
      "            processed_l=processed_l+[[el]]\n",
      "    \n",
      "    grid=meshgrid(linspace(0,1,60),linspace(0,1,60)) \n",
      "    rowt=len(processed_l)\n",
      "    colt=max([max(map(len,processed_l)),2])\n",
      "    fig=subplots(rowt,colt,figsize=(20*colt/rowt,20),sharex='col',sharey='row')\n",
      "    plot_area=fig[0]\n",
      "    graph_grid=fig[1]\n",
      "    plot_area.text(0.5,0.1,'x')\n",
      "    plot_area.text(0.01,0.5,'y')\n",
      "\n",
      "    for i in range(len(processed_l)):\n",
      "        for j in range(len(processed_l[i])):\n",
      "            el=processed_l[i][j]\n",
      "            wf=box2d_wf(grid[0],grid[1],el[0],el[1])\n",
      "            graph_grid[i,j].pcolor(grid[0],grid[1],wf,vmin=-2,vmax=2)\n",
      "            graph_grid[i,j].set_title('E('+str(el[0])+','+str(el[1])+')='+str(round(el[2],2))+'au')\n",
      "    \n",
      "    show()"
     ],
     "language": "python",
     "metadata": {},
     "outputs": []
    },
    {
     "cell_type": "code",
     "collapsed": false,
     "input": [],
     "language": "python",
     "metadata": {},
     "outputs": []
    },
    {
     "cell_type": "heading",
     "level": 2,
     "metadata": {},
     "source": [
      "Distilling alcohols"
     ]
    },
    {
     "cell_type": "markdown",
     "metadata": {},
     "source": [
      "The list *organic_mix* defined below groups a bunch of strings with chemical fomulae for simple organic molecules"
     ]
    },
    {
     "cell_type": "code",
     "collapsed": false,
     "input": [
      "organic_mix=['CH2CH2','CH3CHCH2','(NH2)2CO','CH2ClCH2Cl','CH2CHCl','C6H6','C6H5CH2CH3','CH3O(CH3)3',\n",
      "             'C6H5CHCH2,CH3OH','CH2O','C6H4(CH3)2','CH3CH2OH','C6H5OH','C6H3(OH)2Br','CH2OHCH2OH',\n",
      "             'CH3CHCH3CHOHCH3','C6H3(OH)2CH2CHNH2CO2H','CH3CHOHCH2CH2OH','C6H8(OH)2','CHCl3,CH3CO2H',\n",
      "             'CH3OCH3','CH3COCH3','CH3CH2CH2CH2OH']"
     ],
     "language": "python",
     "metadata": {},
     "outputs": []
    },
    {
     "cell_type": "markdown",
     "metadata": {},
     "source": [
      "The first goal is to create a function *distill()* that will receive a list of chemical formulae and will extract the chemical formulae of alcohols from that list.\n",
      "\n",
      "(Note that in the chemical formulae above, carboxylic acid groups are written as 'CO2H'. If you want a more challanging problem you can change the chemical formulae of acids in the list to read like 'COOH')\n",
      "\n",
      "Before writing your function, think about:\n",
      "\n",
      "* What type of result should your function return?\n",
      "* How do you \"build\" such result?\n",
      "* Do you need a loop? What should the loop variable be?\n",
      "* What kind of tests (*if* statements) do you need to do while building your result?"
     ]
    },
    {
     "cell_type": "code",
     "collapsed": false,
     "input": [],
     "language": "python",
     "metadata": {},
     "outputs": []
    },
    {
     "cell_type": "markdown",
     "metadata": {},
     "source": [
      "We will go further in defining a function called *frac_distill()*, that will return a list of two lists. The first of such lists will contain the formulae of simple alcohols, while the second list will contain the diols.\n",
      "\n",
      "One way to approach this problem is:\n",
      "\n",
      "* Define an auxiliar function *isdiol()* which will identify if a given formula is a diol.\n",
      "* Use the function *distill()* to generate an intermediary list with all alcohols.\n",
      "* Use the function *isdiol()* to create two lists for simple alcohols and diols.\n",
      "\n",
      "(In identifying diols we also want to look for the cases written as '(OH)2'. In terms of the implementation of isdiol() you will probably want to use indexes and check 2 characters in the string at a time.)"
     ]
    },
    {
     "cell_type": "code",
     "collapsed": false,
     "input": [],
     "language": "python",
     "metadata": {},
     "outputs": []
    },
    {
     "cell_type": "heading",
     "level": 2,
     "metadata": {},
     "source": [
      "External modules: Standing on the shoulders of giants"
     ]
    },
    {
     "cell_type": "markdown",
     "metadata": {},
     "source": [
      "We have seen that the components of a programming language are rather simple, and that by combinig simple operations one achieves more complex results. We can further write functions to perform a given task and use these to build more complex programs. However,\n",
      "it quickly becomes cumbersome if every time we want to use a function that is not part of Python we have to explicitly write it out in our notebook. Luckily there is a way to import pre-existing code in the form of modules.\n",
      "\n",
      "Inside your notebook directory you have a file called <a href=\"fibofact.py\">fibofact.py</a> which contains two functions [*fibonacci()*](https://en.wikipedia.org/wiki/Fibonacci_number) and *factorial()* which we want to use in our current notebook.\n",
      "This is a simple text file with the extension .py, take a look at it in a text editor and note the functions are defined in the same way we have done before. (Do you understand what they are doing?). There are several ways we can import and use them.\n",
      "\n",
      "We can import the whole module and call functions within, via a dot and the name of the function we want:\n",
      "\n",
      "    import fibofact\n",
      "    \n",
      "    fibofact.fibonacci(10)"
     ]
    },
    {
     "cell_type": "code",
     "collapsed": false,
     "input": [],
     "language": "python",
     "metadata": {},
     "outputs": []
    },
    {
     "cell_type": "markdown",
     "metadata": {},
     "source": [
      "    fibofact.factorial(10)"
     ]
    },
    {
     "cell_type": "code",
     "collapsed": false,
     "input": [],
     "language": "python",
     "metadata": {},
     "outputs": []
    },
    {
     "cell_type": "markdown",
     "metadata": {},
     "source": [
      "We can do the same thing but choosing to refer to the module by a different (usually shorter) name:    \n",
      "    \n",
      "    import fibofact as ff\n",
      "\n",
      "    ff.fibonacci(10)"
     ]
    },
    {
     "cell_type": "code",
     "collapsed": false,
     "input": [],
     "language": "python",
     "metadata": {},
     "outputs": []
    },
    {
     "cell_type": "markdown",
     "metadata": {},
     "source": [
      "We can choose to extract one (or more) of the functions directly\n",
      "\n",
      "    from fibofact import factorial\n",
      "\n",
      "    factorial(10)\n"
     ]
    },
    {
     "cell_type": "code",
     "collapsed": false,
     "input": [],
     "language": "python",
     "metadata": {},
     "outputs": []
    },
    {
     "cell_type": "markdown",
     "metadata": {},
     "source": [
      "Or extract all functions contained in the module\n",
      "\n",
      "    from fibofact import *\n",
      "    \n",
      "    fibonacci(10)"
     ]
    },
    {
     "cell_type": "code",
     "collapsed": false,
     "input": [],
     "language": "python",
     "metadata": {},
     "outputs": []
    },
    {
     "cell_type": "markdown",
     "metadata": {},
     "source": [
      "The downside of options 3 and particularly 4 is that we might accidentally import a function that has the same name as another variable or function being used. Option 2 is generally considered best practice."
     ]
    },
    {
     "cell_type": "markdown",
     "metadata": {},
     "source": [
      "Even if we can construct our own functions and store them in a module for use at a later time, writting any medium piece of software would appear as a daunting task if we were to build every needed function from scratch using bare *if* statements and *for* loops. Much of the work in programing builds on the top of work of others in the form of function and method libraries implementing useful functionality and that we can import as modules.\n",
      "\n",
      "There are a number of modules directly made available by the [Anaconda distribution](http://docs.continuum.io/anaconda/pkg-docs), but given the popularity of the Python language we can make use of the efforts of many people that make their functions available for others to use.\n",
      "\n",
      "Important packages that you may be using often would be [SciPy](http://www.scipy.org) and [NumPy](http://docs.scipy.org/doc/numpy/user/index.html)\n",
      "\n",
      "    import numpy as np\n",
      "    \n",
      "    np.mean([1,2,3])"
     ]
    },
    {
     "cell_type": "code",
     "collapsed": false,
     "input": [],
     "language": "python",
     "metadata": {},
     "outputs": []
    },
    {
     "cell_type": "markdown",
     "metadata": {},
     "source": [
      "Large modules like scipy often further divide into sub-modules. The sub-module [scipy.constants](http://docs.scipy.org/doc/scipy-0.15.1/reference/constants.html) provides values for useful physica\u00e7 constants. We can often (but not always) use submodules from their parent module like this:\n",
      "\n",
      "    import scipy as sp\n",
      "    sp.constants.k"
     ]
    },
    {
     "cell_type": "code",
     "collapsed": false,
     "input": [],
     "language": "python",
     "metadata": {},
     "outputs": []
    },
    {
     "cell_type": "markdown",
     "metadata": {},
     "source": [
      "But we can always import and then use the submodule directly: \n",
      "\n",
      "    import scipy.constants as phycons\n",
      "    phycons.N_A"
     ]
    },
    {
     "cell_type": "code",
     "collapsed": false,
     "input": [],
     "language": "python",
     "metadata": {},
     "outputs": []
    },
    {
     "cell_type": "markdown",
     "metadata": {},
     "source": [
      "or import functions (in this case variables) from within the submodule via:\n",
      "    \n",
      "    from scipy.constants import h\n",
      "    h"
     ]
    },
    {
     "cell_type": "code",
     "collapsed": false,
     "input": [],
     "language": "python",
     "metadata": {},
     "outputs": []
    },
    {
     "cell_type": "markdown",
     "metadata": {},
     "source": [
      "If a function or variable is imported once in a notebook it is accessible from all the cells."
     ]
    },
    {
     "cell_type": "markdown",
     "metadata": {},
     "source": [
      "When writing scripts, we almost always put the import statements at the beginning of the file that way it's immediately clear what the code we are using depends upon."
     ]
    },
    {
     "cell_type": "markdown",
     "metadata": {},
     "source": [
      "One last example\n",
      "\n",
      "    from IPython.display import YouTubeVideo\n",
      "    YouTubeVideo('T3jIE3b-bhY')"
     ]
    },
    {
     "cell_type": "code",
     "collapsed": false,
     "input": [],
     "language": "python",
     "metadata": {},
     "outputs": []
    },
    {
     "cell_type": "heading",
     "level": 2,
     "metadata": {},
     "source": [
      "Summary"
     ]
    },
    {
     "cell_type": "markdown",
     "metadata": {},
     "source": [
      "In the first part of this workshop we have looked at slightly more complex structures in programming, in particular nested loops. We have seen that nested loops often occur in operations with lists and can often be \"decomposed\" by separating the inner loops into an auxiliar function.\n",
      "\n",
      "In building complex programs we can draw upon code written by others importing external modules, thus increasing the functionality available in the standard Pyhon language. "
     ]
    },
    {
     "cell_type": "heading",
     "level": 1,
     "metadata": {},
     "source": [
      "Part 2"
     ]
    },
    {
     "cell_type": "heading",
     "level": 2,
     "metadata": {},
     "source": [
      "Going beyond the notebook"
     ]
    },
    {
     "cell_type": "markdown",
     "metadata": {},
     "source": [
      "In these workshops we have been writting and running all our code within the notebook interface. The notebook is very useful to write and test small pieces of code, or when the output of our code involves plotting. All that we have learned can however be transposed to stand-alone Python programs, which are nothing but code written on text files saved with the extension .py.\n",
      "\n",
      "We will be looking at two examples, but will first do some preliminary work within the notebook."
     ]
    },
    {
     "cell_type": "heading",
     "level": 3,
     "metadata": {},
     "source": [
      "Interactivity: reading user input"
     ]
    },
    {
     "cell_type": "markdown",
     "metadata": {},
     "source": [
      "One important aspect when running a program outside of the notebook, where the user cannot see or change variable values easily, is to provide a way to prompt the user for input. The function *input()* prompts the user and collects input typed on the keyboard. This is the simplest way to create interactive programs.\n",
      "\n",
      "    keys=input(\"I will collect what you type\")\n",
      "    print(\"What you typed was:\",keys)"
     ]
    },
    {
     "cell_type": "code",
     "collapsed": false,
     "input": [],
     "language": "python",
     "metadata": {},
     "outputs": []
    },
    {
     "cell_type": "markdown",
     "metadata": {},
     "source": [
      "The first line of code will present the user with a string, and in the notebook a text box where whatever you type on the keyboard until you hit return is \"collected\" (outside of the notebook this textbox does not appear, but we will have the chance to check the behaviour later on). Whatever you type is stored as a string in variable *keys* in this case.\n",
      "\n",
      "If we expect numerical input from the user, the string needs to be converted.\n",
      "\n",
      "    number_string=(\"How many carbon atoms are there in butene?\")\n",
      "    number_number=int(number_string)\n",
      "    if number_number == 4:\n",
      "       print(\"Obviously!\")\n",
      "    else:\n",
      "       print(\"Are you a physicist, or what?!\")"
     ]
    },
    {
     "cell_type": "code",
     "collapsed": false,
     "input": [],
     "language": "python",
     "metadata": {},
     "outputs": []
    },
    {
     "cell_type": "heading",
     "level": 3,
     "metadata": {},
     "source": [
      "SMILES generator"
     ]
    },
    {
     "cell_type": "markdown",
     "metadata": {},
     "source": [
      "In the exercise abobe we were working with strings of chemical formulas, but chemical formulas can be ambiguous with respect to chemical structure. [SMILES codes](http://www.daylight.com/dayhtml/doc/theory/theory.smiles.html) are a much less ambiguous way of representing a chemical structure with a single string. The image below shows the structure and respective SMILES codes for two mono-unsaturated fatty acids which differ on the configuration of the double bond.\n",
      "\n",
      "<img src=\"fatty_acids.svg\" />\n",
      "\n",
      "We note that an aliphatic chain can be written as a succession of 'C' characters, with double bonds represented by '='. We can use the foward and backward slash to determine double bond configuration, or we can leave them out if we want to leave it unspecified. No need to include hydrogens. We will not say much more about it, but you can follow the link to [know more about SMILES](http://www.daylight.com/meetings/summerschool98/course/dave/smiles-intro.html).\n",
      "\n",
      "In this section we will be writting a program to write SMILES strings for mono-unsaturated fatty acids, by prompting the user for the total chain length, the position of the double bond, and the orientation of the double bond.\n",
      "\n",
      "The core of our program is going to be the function *fatty_gen()*, that receives 3 arguments: chain length, double bond position, and a string specifying orientation. The string can have the values 'Z' or 'E', any other string would count as an unspecified orientation, and should give a result accordingly. The output of the function should be a string with with the SMILES code of the fatty acid. Write such a function below."
     ]
    },
    {
     "cell_type": "code",
     "collapsed": false,
     "input": [],
     "language": "python",
     "metadata": {},
     "outputs": []
    },
    {
     "cell_type": "markdown",
     "metadata": {},
     "source": [
      "In order to test your function, you can insert the resulting string into the program Avogadro and observe the generated structure. (In the program main window select Build > Insert > SMILES...).\n",
      "\n",
      "Once you are convinced your function is doing the right thing, let us move to build our stand-alone program.\n",
      "In this part of the workshop it is perhaps better if you work with 3 windows open side by side: one window with this notebook, a second window with a text editor (for example notepad++), and a third window with..................\n",
      "\n",
      "<div style=\"color:red\">Check how to run scripts with Anaconda on Windows.</div>\n",
      "\n",
      "Copy the function fatty_gen() you defined above to the text editor, and save the file as fatty_gen.py. Our program at the moment defines the function fatty_gen() but never actually calls it, so if we run the program nothing happens. To complete the script we need to do 3 more things:\n",
      "\n",
      "* Ask the user for input to get the 3 arguments needed to run fatty_gen().\n",
      "* Run fatty_gen() with the input given.\n",
      "* Print the output of fatty_gen().\n",
      "\n",
      "The last step is actually important when running code outside of the notebook. In the notebook the output of a function is returned in an Out[] cell, but when running on the console cells don't exist, and we must write specific code to print to the screen.\n",
      "\n",
      "Once you finished writing your code on the text editor, save the file and run it. Is it working as intended?"
     ]
    },
    {
     "cell_type": "heading",
     "level": 3,
     "metadata": {},
     "source": [
      "<a id=\"battleship\">Battleship</a>"
     ]
    },
    {
     "cell_type": "heading",
     "level": 4,
     "metadata": {},
     "source": [
      "The game"
     ]
    },
    {
     "cell_type": "markdown",
     "metadata": {},
     "source": [
      "In this section we will be writing a computer game which is a simplified version of the pencil and paper game [Battleship](https://en.wikipedia.org/wiki/Battleship_(game)). The game will work as follows:\n",
      "\n",
      "* We define a square grid with 5&times;5 elements.\n",
      "* The computer randomly assigns one of the elements of the grid to represent a hidden ship. All other grid elements are the ocean.\n",
      "* The player as 5 shots to sink the ship: guess where the ship is."
     ]
    },
    {
     "cell_type": "heading",
     "level": 4,
     "metadata": {},
     "source": [
      "What should the program do"
     ]
    },
    {
     "cell_type": "markdown",
     "metadata": {},
     "source": [
      "We want to to write a stand-alone program that:\n",
      "\n",
      "1. Sets up the grid by hidding the ship in one of the grid elements.\n",
      "2. Shows the grid to the player (not showing the hidden ship, but including any shots made).\n",
      "3. Asks the player for a guess position.\n",
      "4. Checks whether the choice is a hit.\n",
      "5. Inform the user of success, or update the grid with the guess shot and go back to point 2."
     ]
    },
    {
     "cell_type": "heading",
     "level": 4,
     "metadata": {},
     "source": [
      "Designing a solution"
     ]
    },
    {
     "cell_type": "markdown",
     "metadata": {},
     "source": [
      "How to go about solving this problem? This is the design phase, and it is not a bad idea to get a pencil and paper out and draw a diagram of how to break down the different tasks.\n",
      "\n",
      "A second stage of design is to define what data we need to keep track of (what are our global variables) and what operations need to occur during the program that use or change this data (what functions need to be defined, along with what their arguments and output should be). If we line out in detail what the program needs to do as in the section above, the task of what functions to define can be greatly simplified.\n",
      "\n",
      "What follows is one suggestion for the program design, you can choose a different route."
     ]
    },
    {
     "cell_type": "heading",
     "level": 5,
     "metadata": {},
     "source": [
      "Variables"
     ]
    },
    {
     "cell_type": "markdown",
     "metadata": {},
     "source": [
      "One crucial variable of the program is the position of the hidden ship. This could be deffined by the two coordinates on the grid and stored as a 2 element list with the variable name *hidden_ship*.\n",
      "\n",
      "Another important piece of information important to keep track of is the shots already made. This will be a list of 2 element lists. This list will start empty, and will be added to during the game. We will call this list *shots*.\n",
      "\n",
      "These are the 2 pieces of information that we need to keep. Note that although we could have decided differently, we are choosing not to keep track of the full grid. We can build this grid with information from *shots* at any one time."
     ]
    },
    {
     "cell_type": "heading",
     "level": 5,
     "metadata": {},
     "source": [
      "Functions"
     ]
    },
    {
     "cell_type": "markdown",
     "metadata": {},
     "source": [
      "Regarding functions we can follow the outline of the program given above.\n",
      "\n",
      "We will need a function to generate the radom position *hidden_ship* (we will see how to do this below). We will call this function *hide()*. This function does not need any input, and should output a list with the two coordinates.\n",
      "\n",
      "We will need a function that displays the current grid to the player. We can represent the grid as a 5&times;5 list of lists. We will use the string 'O' to represent positions not yet tried, and 'X', for previous shots.\n",
      "Our initial grid will thus look like:\n",
      "\n",
      "    [['O','O','O','O','O'],\n",
      "     ['O','O','O','O','O'],\n",
      "     ['O','O','O','O','O'],\n",
      "     ['O','O','O','O','O'],\n",
      "     ['O','O','O','O','O']]\n",
      "     \n",
      "And when the player shoots the position [1,3] (**we will be using Python list indexing numbering in the game**) it will look like:\n",
      "\n",
      "    [['O','O','O','O','O'],\n",
      "     ['O','O','O','X','O'],\n",
      "     ['O','O','O','O','O'],\n",
      "     ['O','O','O','O','O'],\n",
      "     ['O','O','O','O','O']]\n",
      "     \n",
      "We will separate the task of presenting the grid to the player into two functions. *build_grid()* will construct the 5&times;5 2D list as above, and *print_grid()* will print the grid for the user to see. *build_grid* should receive the *shots* list as input, and output a 5&times;5 2D list.\n",
      "*print_grid()* should receive a 5&times;5 2D list and output nothing (only print to the screen).\n",
      "\n",
      "We will need a function that asks the player for a guess position, and it should do a few checks to see if the choice is valid: within the grid and not repeated. This function should add the the guess to the list *shots*. Let us call this function *shoot()*. This function should receive as argument the list *shots*, and should output an updated *shots* list.\n",
      "\n",
      "We should have a function *check()* which will check and inform the user if he was successful, if he has more tries or if the game is over. This function should receive the lists *hidden_ship* *shots* as arguments, and returns no output (only prints to screen).    "
     ]
    },
    {
     "cell_type": "heading",
     "level": 5,
     "metadata": {},
     "source": [
      "Putting it together"
     ]
    },
    {
     "cell_type": "markdown",
     "metadata": {},
     "source": [
      "Once we have defined our functions, writting the program is relativelly simple.\n",
      "\n",
      "    hidden_ship=hide()\n",
      "    shots=[]\n",
      "    \n",
      "    while hidden_ship not in shots and len(shots)<=5:\n",
      "         grid=build_grid(shots)\n",
      "         print_grid(grid)\n",
      "         shots=shoot(shots)\n",
      "         check(hidden_ship,shots)\n",
      "         \n",
      "It is normal that there are still unclear aspects about the design of the program, and things should become clearer once we start the implementation phase below. Nevertheless you are welcome to discuss with a demonstrator any aspects of this solution.\n",
      "\n",
      "We will implement the individual functions inside the notebook and makesure they work as expected, and them write them down in as a stand-alone program."
     ]
    },
    {
     "cell_type": "heading",
     "level": 4,
     "metadata": {},
     "source": [
      "Implementation"
     ]
    },
    {
     "cell_type": "markdown",
     "metadata": {},
     "source": [
      "Here we will implement the different functions we have specified above.\n",
      "\n",
      "The function *hide()* needs to output a list with two random integers between 0 and 4. In order to generate integer random numbers we can use the function *randint()* of the numpy module.\n",
      "\n",
      "    from numpy.random import randint()\n",
      "    randint(0,100)"
     ]
    },
    {
     "cell_type": "code",
     "collapsed": false,
     "input": [],
     "language": "python",
     "metadata": {},
     "outputs": []
    },
    {
     "cell_type": "markdown",
     "metadata": {},
     "source": [
      "The code above generates a random integer beteen 0 and 100. Note that if you run the cell again you will obtain a differen number.\n",
      "\n",
      "Define the function *hide()* below."
     ]
    },
    {
     "cell_type": "code",
     "collapsed": false,
     "input": [],
     "language": "python",
     "metadata": {},
     "outputs": []
    },
    {
     "cell_type": "markdown",
     "metadata": {},
     "source": [
      "We now want to define the function *build_grid()* which receives a list *shots* as an argument, and returns a 5&times;5 2D list of 'O' everywhere and 'X' at the positions *shots*. It is probably easier to first build a grid with 'O' everywhere, and the loop through *shots* and redefine the positions of the grid accordingly."
     ]
    },
    {
     "cell_type": "code",
     "collapsed": false,
     "input": [],
     "language": "python",
     "metadata": {},
     "outputs": []
    },
    {
     "cell_type": "markdown",
     "metadata": {},
     "source": [
      "The function *print_grid()* should receive as input the output of *build_grid()* and print it in a convenient fashion to the screen. Note that simply unsing the function print on a list does not convey the idea of a grid.\n",
      "\n",
      "    print([['O','O','O'],['O','O','X'],['O','O','O']])"
     ]
    },
    {
     "cell_type": "code",
     "collapsed": false,
     "input": [],
     "language": "python",
     "metadata": {},
     "outputs": []
    },
    {
     "cell_type": "markdown",
     "metadata": {},
     "source": [
      "A nicer output would look like:\n",
      "\n",
      "    O O O\n",
      "    O O X\n",
      "    O O O\n",
      "    \n",
      "This could be done by looping through the rows of the grid, building a convenient string and printing it out.\n",
      "\n",
      "Define the function *print_grid()* below."
     ]
    },
    {
     "cell_type": "code",
     "collapsed": false,
     "input": [],
     "language": "python",
     "metadata": {},
     "outputs": []
    },
    {
     "cell_type": "markdown",
     "metadata": {},
     "source": [
      "The function *shoot()*, should receive the lits *shots* as input, ask the user for the row and column guess, and output the list *shots* updated. A first implementation can be quite simple.\n",
      "\n",
      "If you are feeling confortable, you should implements some checks, since the wrong player input can cause errors in the program later on. We should use a loop and keep on prompting the user for input until the guess is sensible, informing of what the problem with input is at each stage. We should check if the guess is in the range of the grid, and if the entered guess is repeated and is already in *shots*."
     ]
    },
    {
     "cell_type": "code",
     "collapsed": false,
     "input": [],
     "language": "python",
     "metadata": {},
     "outputs": []
    },
    {
     "cell_type": "markdown",
     "metadata": {},
     "source": [
      "The function *check()* receives the list *hidden_ship* and *shots*, and it should check whether the last element of *shots* matches *hidden_ship* and inform the player of what happens. It does not have to output anything, just print things to the screen.\n",
      "\n",
      "There are three possibilities: ship sunk; tell the player how many shots it still has (determined by the current length of *shots*); or game over."
     ]
    },
    {
     "cell_type": "code",
     "collapsed": false,
     "input": [],
     "language": "python",
     "metadata": {},
     "outputs": []
    },
    {
     "cell_type": "markdown",
     "metadata": {},
     "source": [
      "When you are conviced that your functions are doing the right thing, you can copy them to a text file, and the main code structure above. Don't forget to import any module that you are using. Run the program, and have fun!\n",
      "\n",
      "If there is anything in your program that you want to improve, just change your functions accordingly."
     ]
    },
    {
     "cell_type": "heading",
     "level": 2,
     "metadata": {},
     "source": [
      "Summary"
     ]
    },
    {
     "cell_type": "markdown",
     "metadata": {},
     "source": [
      "In the second part of this workshop we have seen how to run programs outside of the notebook. In this context it is relevant to provide a mechanismm for user input.\n",
      "\n",
      "We wrote a program to generate SMILES codes for mono-unsaturated fatty acids, and wrote a simple computer game."
     ]
    }
   ],
   "metadata": {}
  }
 ]
}