{
 "metadata": {
  "name": "",
  "signature": "sha256:77568c953a8f5447fde8b93519959eb45185247885f99bbf5ab30527cb5fa728"
 },
 "nbformat": 3,
 "nbformat_minor": 0,
 "worksheets": [
  {
   "cells": [
    {
     "cell_type": "heading",
     "level": 1,
     "metadata": {},
     "source": [
      "Introduction to programming 3"
     ]
    },
    {
     "cell_type": "markdown",
     "metadata": {},
     "source": [
      "[Clyde Fare](mailto:python@imperial.ac.uk) and [Jo\u00e3o Pedro Malhado](mailto:python@imperial.ac.uk), Imperial College London\n",
      "\n",
      "This notebook is licensed under a [Creative Commons Attribution 4.0 (CC-by) license](http://creativecommons.org/licenses/by/4.0/)"
     ]
    },
    {
     "cell_type": "heading",
     "level": 2,
     "metadata": {},
     "source": [
      "Overview"
     ]
    },
    {
     "cell_type": "markdown",
     "metadata": {},
     "source": [
      "In the last workshop of this series we finished covering the most important building blocks of the Python programming language, which are indeed common to many other programming languages (with only syntactic variations). We are thus now equiped to tackle all sorts of problems, and the major challange in programming is to break down the solution to a given problem and express/translate our solution into this language we have learned. The best way to achieve proficiency at doing this is by actual practice.\n",
      "\n",
      "In the first part of this workshop we shall not be introducing new language elements, and will be focussing instead in a few examples and problems, and looking at some constructs that appear in practice.\n",
      "\n",
      "We will also look at how to use pieces of code built by other in the form of modules.\n",
      "\n",
      "In the second part of the workshop, we will see how to ask for user input and how to run python programs outside of the notebook. We will end by programming a very simple computer game."
     ]
    },
    {
     "cell_type": "heading",
     "level": 2,
     "metadata": {},
     "source": [
      "Warm up"
     ]
    },
    {
     "cell_type": "markdown",
     "metadata": {},
     "source": [
      "In the last workshop we learned how loops work, how they introduce repetition in the program, and how by repeating relativelly simple operations a complex result can be achieved. We have also seen how to use functions to encapsulate functionality to be reused in different parts of the program.\n",
      "\n",
      "To review both of these notions we will now create a function *reverse_string()* which given a string will return another string with the characters of the argument string in the reverse order. An example of the function result is\n",
      "\n",
      "    reverse_string('Rewarder') -> 'redraweR'\n",
      "    \n",
      "In the cell bellow we provide the backbones of how this function could look like, and you should fill in the gaps to make it functional"
     ]
    },
    {
     "cell_type": "code",
     "collapsed": false,
     "input": [
      "def reverse_string(input_string):\n",
      "    \"Reverses the order of the characters in input_string\"\n",
      "    \n",
      "    rev=''\n",
      "    for\n",
      "        rev=rev+\n",
      "    return rev"
     ],
     "language": "python",
     "metadata": {},
     "outputs": []
    },
    {
     "cell_type": "markdown",
     "metadata": {},
     "source": [
      "Note how the function is set up, with *input_string* as an argument of the function, and *rev* as a local variable that will be returned.\n",
      "\n",
      "Also note the common structure of the loop: we define a result variable (here called *rev*), and update it's value in the loop body. In this case, the function output is directly the result variable.\n",
      "\n",
      "The great advantage of defining a function is that we can now apply it to many different cases without rewritting the same code again and again. Let's use it then\n",
      "\n",
      "    reverse_string('0123')"
     ]
    },
    {
     "cell_type": "code",
     "collapsed": false,
     "input": [],
     "language": "python",
     "metadata": {},
     "outputs": []
    },
    {
     "cell_type": "markdown",
     "metadata": {},
     "source": [
      "    reverse_string('Noon')"
     ]
    },
    {
     "cell_type": "code",
     "collapsed": false,
     "input": [],
     "language": "python",
     "metadata": {},
     "outputs": []
    },
    {
     "cell_type": "markdown",
     "metadata": {},
     "source": [
      "    reverse_string('stressed')"
     ]
    },
    {
     "cell_type": "code",
     "collapsed": false,
     "input": [],
     "language": "python",
     "metadata": {},
     "outputs": []
    },
    {
     "cell_type": "heading",
     "level": 2,
     "metadata": {},
     "source": [
      "Nested loops"
     ]
    },
    {
     "cell_type": "markdown",
     "metadata": {},
     "source": [
      "Data will often take the form of lists (which can be seen as 2D or higher dimension lists), and we might be interested in doing operations on, or use every element of the these lists. Such operations often require running more than one loop simultaneously. Let us look at the example case of the following table\n",
      "\n",
      "    table=[[1,1.2,'a'],\n",
      "           [2,2.3,'b'],\n",
      "           [3,3.4,'c']]"
     ]
    },
    {
     "cell_type": "code",
     "collapsed": false,
     "input": [],
     "language": "python",
     "metadata": {},
     "outputs": []
    },
    {
     "cell_type": "markdown",
     "metadata": {},
     "source": [
      "First, we will print *x&#42;2* for every *x* element of *table* (note that this operarion exist for both numbers and strings but with different effects). To do this we need 2 loops:\n",
      "\n",
      "* The first will loop through the elements of *table*: i.e. each of the inner lists.\n",
      "* The second will loop through the elements of the inner lists.\n",
      "\n",
      "It will look like the following:\n",
      "\n",
      "    for row in table:\n",
      "        for x in row:\n",
      "            print(2*x)"
     ]
    },
    {
     "cell_type": "code",
     "collapsed": false,
     "input": [],
     "language": "python",
     "metadata": {},
     "outputs": []
    },
    {
     "cell_type": "markdown",
     "metadata": {},
     "source": [
      "We are using loop variable names that are indicative of what these variables are in the algorithm. THe first foor loop is \"picking out\" the rows of the table/inner lists. For each value of *row*, the second loop is \"pickin out\" individual elements of *row*.\n",
      "\n",
      "It is perhaps helpful to introduce some print statements to better understand what the code is doing. It is important to note indentation and which print statement belongs to which loop body to understand when it is being executed\n",
      "\n",
      "    for row in table:\n",
      "        print('row=',row)\n",
      "        for x in row:\n",
      "            print('x=',x)\n",
      "            print(2*x)"
     ]
    },
    {
     "cell_type": "code",
     "collapsed": false,
     "input": [],
     "language": "python",
     "metadata": {},
     "outputs": []
    },
    {
     "cell_type": "markdown",
     "metadata": {},
     "source": [
      "If it is not clear how the nested loops are working, please ask a demonstrator.\n",
      "\n",
      "We could obtain exactly the same results by using indexes to extract the elements of *table*.\n",
      "\n",
      "    for i in range(3):\n",
      "        for j in range(3):\n",
      "            print(2*table[i][j])"
     ]
    },
    {
     "cell_type": "code",
     "collapsed": false,
     "input": [],
     "language": "python",
     "metadata": {},
     "outputs": []
    },
    {
     "cell_type": "markdown",
     "metadata": {},
     "source": [
      "Adding some print statements to make clearer\n",
      "\n",
      "    for i in range(3):\n",
      "        print(\"i=\",i)\n",
      "        for j in range(3):\n",
      "            print(\"j=\",j)\n",
      "            print(\"table[i][j]=\",table[i][j])\n",
      "            print(2*table[i][j])"
     ]
    },
    {
     "cell_type": "code",
     "collapsed": false,
     "input": [],
     "language": "python",
     "metadata": {},
     "outputs": []
    },
    {
     "cell_type": "markdown",
     "metadata": {},
     "source": [
      "Note that the loop variables are integers in this case, running from 0 to 2. In this case we know the shape of the array and can set the loop bounds with range(3). In cases when we don't know, or don't want to know, the size of the table we are dealing with, we can write a more generic form\n",
      "\n",
      "    for i in range(len(table)):\n",
      "        for j in range(len(table[i])):\n",
      "            print(2*table[i][j])"
     ]
    },
    {
     "cell_type": "code",
     "collapsed": false,
     "input": [],
     "language": "python",
     "metadata": {},
     "outputs": []
    },
    {
     "cell_type": "markdown",
     "metadata": {},
     "source": [
      "We have just shown that we can loop over list elements or list indexes to obtain the same result. The first way is often simpler and more natural in Python, while the second way is more common in most other programming languages.\n",
      "\n",
      "There are some cases when using indexes can be handy. For example, until now we have been printing the result of the operations following each row \"horizontally\", and moving to the next row \"below\" it. Write some code using indexes that will perform the same operation but following down the columns of *table*."
     ]
    },
    {
     "cell_type": "code",
     "collapsed": false,
     "input": [],
     "language": "python",
     "metadata": {},
     "outputs": []
    },
    {
     "cell_type": "markdown",
     "metadata": {},
     "source": [
      "Up to now we have been performing operations on every element of the list and printing the result to the screen. This is not a particularly useful operation, and we often want to make a transformation to the full table and keep it. We can do this by building a new table *tablet2*\n",
      "\n",
      "    tablet2=[]\n",
      "    for row in table:\n",
      "        new_row=[]\n",
      "        for x in row:\n",
      "            new_row=new_row+[2*x]\n",
      "        tablet2=tablet2+[new_row]\n",
      "        \n",
      "    tablet2"
     ]
    },
    {
     "cell_type": "code",
     "collapsed": false,
     "input": [],
     "language": "python",
     "metadata": {},
     "outputs": []
    },
    {
     "cell_type": "markdown",
     "metadata": {},
     "source": [
      "Note that we have defined 2 result variables, *tablet2* and *new_row*, each updated on a different loop. *tablet2* is initialized to an empty list and is updated at the end of the body of the first loop. *new_row* is initialized to an empty list **in each cycle** of the first loop, build up inside the second loop, and appended to *tablet2* after the second loop has finished.\n",
      "\n",
      "This is a comon construction when building new tables, it is important that you understand how it works. If it is not completelly clear, try adding some print statements to the code above."
     ]
    },
    {
     "cell_type": "markdown",
     "metadata": {},
     "source": [
      "We will now consider how to generate a list of all the prime numbers below 100. We will approach the problem in the simplest, if not very efficient, way: we will loop through every number between 1 and 100 and test if each of them is a prime number. To test if each number is a prime we need a second loop where we test if the number is devisable by any of the numbers smaller than itself.\n",
      "\n",
      "We will provide the backbone of the code and let you fill the gaps to make it functional."
     ]
    },
    {
     "cell_type": "code",
     "collapsed": false,
     "input": [
      "primes=[]\n",
      "for i in range(1,100):\n",
      "    is_prime=True\n",
      "    for j in range():\n",
      "        if % ==0:\n",
      "            is_prime=\n",
      "    if :\n",
      "        primes=\n",
      "        \n",
      "primes"
     ],
     "language": "python",
     "metadata": {},
     "outputs": []
    },
    {
     "cell_type": "markdown",
     "metadata": {},
     "source": [
      "Although common, this type of nested loops can get relatively complicated to read and understand. It is often possible to avoid them by defining a function that will do the work being done in the inner loop seperatly.\n",
      "\n",
      "In the case of the list of prime numbers, we could make our lives easier if we were to define a function *isprime()* that will return a boolean indicating if the argument is a prime number. Define such a function below"
     ]
    },
    {
     "cell_type": "code",
     "collapsed": false,
     "input": [],
     "language": "python",
     "metadata": {},
     "outputs": []
    },
    {
     "cell_type": "markdown",
     "metadata": {},
     "source": [
      "Building our list of primes should now just be a matter of\n",
      "\n",
      "    primes=[]\n",
      "    for i in range(1,100):\n",
      "        if isprime(i):\n",
      "            primes=primes+[i]\n",
      "    \n",
      "    primes"
     ]
    },
    {
     "cell_type": "code",
     "collapsed": false,
     "input": [],
     "language": "python",
     "metadata": {},
     "outputs": []
    },
    {
     "cell_type": "heading",
     "level": 3,
     "metadata": {},
     "source": [
      "Sorting"
     ]
    },
    {
     "cell_type": "heading",
     "level": 2,
     "metadata": {},
     "source": [
      "Counting alchools"
     ]
    },
    {
     "cell_type": "markdown",
     "metadata": {},
     "source": [
      "The list *organic_mol* defined below groups a bunch of strings with chemical fomulas for simple organic molecules"
     ]
    },
    {
     "cell_type": "code",
     "collapsed": false,
     "input": [
      "organic_mol=['CH2CH2','CH3CHCH2','(NH2)2CO','CH2ClCH2Cl','CH2CHCl','C6H6','C6H5CH2CH3','CH3O(CH3)3',\n",
      "             'C6H5CHCH2,CH3OH','CH2O','C6H4(CH3)2','CH3CH2OH','C6H5OH','C6H3(OH)2Br','CH2OHCH2OH',\n",
      "             'CH3CHCH3CHOHCH3','C6H3(OH)2CH2CHNH2CO2H','CH3CHOHCH2CH2OH','C6H8(OH)2','CHCl3,CH3CO2H',\n",
      "             'CH3OCH3','CH3COCH3','CH3CH2CH2CH2OH']"
     ],
     "language": "python",
     "metadata": {},
     "outputs": []
    },
    {
     "cell_type": "heading",
     "level": 2,
     "metadata": {},
     "source": [
      "2D particle in a box"
     ]
    },
    {
     "cell_type": "markdown",
     "metadata": {},
     "source": [
      "For a 2D particle in a box (or 2D harmonic oscillator) produce a list of energy values for n1 and n2 varying from 1 to 10. Order the results by increasing energy."
     ]
    },
    {
     "cell_type": "code",
     "collapsed": false,
     "input": [
      "%pylab inline"
     ],
     "language": "python",
     "metadata": {},
     "outputs": []
    },
    {
     "cell_type": "code",
     "collapsed": false,
     "input": [
      "def box2d_e(n1,n2,L):\n",
      "    '''Energy for a 2D particle in a square box, \n",
      "    for quantum numbers n1 and n2 and length L.\n",
      "    Look out for units!'''\n",
      "    \n",
      "    return (n1**2/L+n2**2/L)*1/8"
     ],
     "language": "python",
     "metadata": {},
     "outputs": []
    },
    {
     "cell_type": "code",
     "collapsed": false,
     "input": [
      "def box2d_wf(x,y,n1,n2,L):\n",
      "    \"Wavefunction for a 2D particle in a square box, for quantum numbers n1 and n2 and length L\"\n",
      "    \n",
      "    return 2/L*sin(n1*pi*x/L)*sin(n2*pi*y/L)"
     ],
     "language": "python",
     "metadata": {},
     "outputs": []
    },
    {
     "cell_type": "code",
     "collapsed": false,
     "input": [
      "def box2d_plots(l):\n",
      "    \"Generate grid plot from a list of quantum numbers and energies.\"\n",
      "    \n",
      "    grid=meshgrid(linspace(0,1,60),linspace(0,1,60)) \n",
      "    rowt=int(max(array(l)[:,1]))\n",
      "    colt=int(max(array(l)[:,0]))\n",
      "    graph_grid=subplots(rowt,colt,figsize=(8,8),sharex='col',sharey='row')[1]\n",
      "\n",
      "    for el in l:\n",
      "            wf=box2d_wf(grid[0],grid[1],el[0],el[1],1)\n",
      "            graph_grid[el[0]-1,el[1]-1].pcolor(grid[0],grid[1],wf,vmin=-2,vmax=2)\n",
      "            graph_grid[el[0]-1,el[1]-1].set_title('E('+str(el[0])+','+str(el[1])+')='+str(el[2]))\n",
      "    \n",
      "    show()"
     ],
     "language": "python",
     "metadata": {},
     "outputs": []
    },
    {
     "cell_type": "code",
     "collapsed": false,
     "input": [
      "table=[]\n",
      "\n",
      "for n1 in range(1,5):\n",
      "    for n2 in range(1,5):\n",
      "        table=table+[[n1,n2,box2d_e(n1,n2,1)]]\n",
      "\n",
      "table"
     ],
     "language": "python",
     "metadata": {},
     "outputs": []
    },
    {
     "cell_type": "code",
     "collapsed": false,
     "input": [
      "box2d_plots(table)"
     ],
     "language": "python",
     "metadata": {},
     "outputs": []
    },
    {
     "cell_type": "code",
     "collapsed": false,
     "input": [],
     "language": "python",
     "metadata": {},
     "outputs": []
    },
    {
     "cell_type": "heading",
     "level": 2,
     "metadata": {},
     "source": [
      "rdkit stuff"
     ]
    },
    {
     "cell_type": "code",
     "collapsed": false,
     "input": [
      "import sys\n",
      "sys.path.append('/usr/lib/python2.7/lib-dynload/')\n",
      "sys.path.append('/usr/lib/python2.7/dist-packages/')"
     ],
     "language": "python",
     "metadata": {},
     "outputs": []
    },
    {
     "cell_type": "code",
     "collapsed": false,
     "input": [
      "sys.path"
     ],
     "language": "python",
     "metadata": {},
     "outputs": []
    },
    {
     "cell_type": "code",
     "collapsed": false,
     "input": [
      "from rdkit.Chem import Draw, MolFromSmiles\n",
      "#from rdkit import Chem\n",
      "\n",
      "m = MolFromSmiles('Cc1ccccc1')\n",
      "fig = Draw.MolToMPL(m)"
     ],
     "language": "python",
     "metadata": {},
     "outputs": []
    },
    {
     "cell_type": "heading",
     "level": 2,
     "metadata": {},
     "source": [
      "Interactive programs: prompting the user"
     ]
    },
    {
     "cell_type": "markdown",
     "metadata": {},
     "source": [
      "Introduce how to run standalone scripts"
     ]
    },
    {
     "cell_type": "code",
     "collapsed": false,
     "input": [],
     "language": "python",
     "metadata": {},
     "outputs": []
    }
   ],
   "metadata": {}
  }
 ]
}