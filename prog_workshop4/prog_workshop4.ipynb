{
 "metadata": {
  "name": "",
  "signature": "sha256:6331a399b163b0f76c575e42ed8a8bbd298f72878c25e14ea7f65069f8627376"
 },
 "nbformat": 3,
 "nbformat_minor": 0,
 "worksheets": [
  {
   "cells": [
    {
     "cell_type": "heading",
     "level": 1,
     "metadata": {},
     "source": [
      "Introduction to programming 4"
     ]
    },
    {
     "cell_type": "markdown",
     "metadata": {},
     "source": [
      "William Vigor, Clyde Fare and Jo\u00e3o Pedro Malhado, Imperial College London (contact: [python@imperial.ac.uk](mailto:python@imperial.ac.uk))\n",
      "\n",
      "Notebook is licensed under a [Creative Commons Attribution 4.0 (CC-by) license](http://creativecommons.org/licenses/by/4.0/)."
     ]
    },
    {
     "cell_type": "markdown",
     "metadata": {},
     "source": [
      "During this workshop we will briefly introduce some mathematical functions before trying to put together what we have learned so far to solve a progamming related task to extract and fit some data from quantum chemical calculations of Neon dimers.\n",
      "\n",
      "Like last time this is an interactive tutorial. As you go through it any time you see something that looks like this:\n",
      "\n",
      "    a = np.array([1,2,3])\n",
      "   \n",
      "that's followed by an empty *code cell* (a light grey rectangle with a label like *\"In[ ]\"*), you should \n",
      "type the expression in the code cell, hit Shift+Return to *execute* it, and note the output.\n",
      "\n",
      "No copying and pasting! You'll learn the concepts better if you type them out yourself.\n",
      "\n",
      "Warning please periodically save your work."
     ]
    },
    {
     "cell_type": "markdown",
     "metadata": {},
     "source": [
      "To speed things up we will also include some filled code cells for you to execute **(You should still read what's in the code cells and make sure you understand them!!)**: "
     ]
    },
    {
     "cell_type": "heading",
     "level": 2,
     "metadata": {},
     "source": [
      "Overview"
     ]
    },
    {
     "cell_type": "markdown",
     "metadata": {},
     "source": [
      "Up to now all our programs have run in their little buble: they define the variable values they use and after they finish they leave little trace that they were ever run. Things changed a little in the last workshop where we introduced the possibility of the user passing on some information for the program to process. We will go a step further in seeing how we can interact with files.\n",
      "\n",
      "Dealing and interacting with files is a very common way of processing information stored in a computer, and is something that your programs might often do. When we deal with files and our programs go beyond their \"logical bubble\", is when we can start doing some damage: delete information on files, delete files all together, fill up the hard disk, damage your installation (the operating system should actually have safeguards for this). This should not intimidate you, it is just that with power it comes reponsibility.\n",
      "\n",
      "In this workshop we will first go over the basic operations on files. Then we will look at a case study of a common case senario where we want to process a file to extract information in a useful format."
     ]
    },
    {
     "cell_type": "heading",
     "level": 2,
     "metadata": {},
     "source": [
      "Dealing with files"
     ]
    },
    {
     "cell_type": "markdown",
     "metadata": {},
     "source": [
      "In any computer hard-disk there are typically two types of files: text files and binary files. Text files are those you can read with a text editor program (think of Notepad, not Microsoft Word), and do not necessarily contain prose. (If you open this notebook, which has an extension \\*.ipynb, on a text editor you will see that it is text in some form. The IPython notebook is a text file.) Binary files on the other end cannot be openned on a text editor, or when they do open they show up as ununderstandable characters. (Picture files like PNG or JPEG, music files like MP3, video files, Word DOC files, are all binary files.)\n",
      "\n",
      "We will only be looking at manipulating text files. Although Python can also manipulate binary files, the caveat of such files is that the programmer needs to know *a priori* how the content of the file is structured, and since one cannot just look at the file on a text editor, this task is harder. Binary files further require knowledge of some low level computer architecture which is beyond the scope of this course. Manipulating text files will however illustrate the process, and most instruments and computer programs are able to write data in some form of text file."
     ]
    },
    {
     "cell_type": "heading",
     "level": 3,
     "metadata": {},
     "source": [
      "Reading files"
     ]
    },
    {
     "cell_type": "markdown",
     "metadata": {},
     "source": [
      "We will start by loading the content of the file <a href=\"test.out\">test.out</a> (you can open the file to look at its content). First we need to open a stream to the file content and set it to a variable. This is done with function *open()*\n",
      "\n",
      "    stream1=open('test.out','r')"
     ]
    },
    {
     "cell_type": "code",
     "collapsed": false,
     "input": [],
     "language": "python",
     "metadata": {},
     "outputs": []
    },
    {
     "cell_type": "markdown",
     "metadata": {},
     "source": [
      "This takes a string containing the name of our file (including the full path if the file is not in the same directory as the notebook/script) and as a second argument a flag telling Python whether we are going to read or write to the file. ('r' for reading and 'w' for writing).\n",
      "\n",
      "Via the variable *stream1* we now have direct access to the content of the file. If we loop over the file stream we can read the lines of the file one by one as strings\n",
      "\n",
      "    for line in stream1:\n",
      "        print(line)"
     ]
    },
    {
     "cell_type": "code",
     "collapsed": false,
     "input": [],
     "language": "python",
     "metadata": {},
     "outputs": []
    },
    {
     "cell_type": "markdown",
     "metadata": {},
     "source": [
      "Once we are done with the file we should tidy up, close the stream and leave the file in peace\n",
      "\n",
      "    stream1.close()"
     ]
    },
    {
     "cell_type": "code",
     "collapsed": false,
     "input": [],
     "language": "python",
     "metadata": {},
     "outputs": []
    },
    {
     "cell_type": "markdown",
     "metadata": {},
     "source": [
      "If we are interested in a list with everyline in the file we could build a lost with a loop, or simply operate with the function *list()* on the stream\n",
      "\n",
      "    stream2=open('test.out','r')\n",
      "    list_content=list(stream2)\n",
      "    stream2.close()\n",
      "    list_content"
     ]
    },
    {
     "cell_type": "code",
     "collapsed": false,
     "input": [],
     "language": "python",
     "metadata": {},
     "outputs": []
    },
    {
     "cell_type": "markdown",
     "metadata": {},
     "source": [
      "Note at the end of each line/list element the linebreak represented by '\\n' which counts as a single character.\n",
      "\n",
      "We should be slightly careful when performing this operations as it puts all the content of the file into a list, which will be unmanageable if the file is several gigabytes in size.\n",
      "\n",
      "It is just as simple to read a specific number of lines, using a loop and the method *.readline()*\n",
      "\n",
      "    stream3=open('test.out','r')\n",
      "    for i in range(2):\n",
      "        line=stream3.readline()\n",
      "        print(line)\n",
      "    stream3.close()"
     ]
    },
    {
     "cell_type": "code",
     "collapsed": false,
     "input": [],
     "language": "python",
     "metadata": {},
     "outputs": []
    },
    {
     "cell_type": "markdown",
     "metadata": {},
     "source": [
      "The house keeping step of closing the stream can be a bit tedious an easily forgotten. The following construct will close the stream for us when we are done\n",
      "\n",
      "    with open('test.out','r') as stream:\n",
      "        list_content_again=list(stream)\n",
      "    list_content_again"
     ]
    },
    {
     "cell_type": "code",
     "collapsed": false,
     "input": [],
     "language": "python",
     "metadata": {},
     "outputs": []
    },
    {
     "cell_type": "heading",
     "level": 3,
     "metadata": {},
     "source": [
      "A little bit more on strings"
     ]
    },
    {
     "cell_type": "heading",
     "level": 3,
     "metadata": {},
     "source": [
      "Writting files"
     ]
    },
    {
     "cell_type": "markdown",
     "metadata": {},
     "source": [
      "Remembering workshop II we can read a file and print its contents using:"
     ]
    },
    {
     "cell_type": "code",
     "collapsed": false,
     "input": [
      "#get the raw file data\n",
      "f = open('test.out' ,'r')\n",
      "file_contents = f.read()\n",
      "lines=file_contents.splitlines()\n",
      "f.close()\n",
      "\n",
      "for line in lines:\n",
      "    print(line)"
     ],
     "language": "python",
     "metadata": {},
     "outputs": []
    },
    {
     "cell_type": "code",
     "collapsed": false,
     "input": [
      "#get the raw file data\n",
      "f = open('test.out' ,'r')\n",
      "lines=f.readlines()\n",
      "f.close()\n",
      "\n",
      "for line in lines:\n",
      "    print(line)"
     ],
     "language": "python",
     "metadata": {},
     "outputs": []
    },
    {
     "cell_type": "markdown",
     "metadata": {},
     "source": [
      "So if we wanted to extract the colour of the leaves from the file we would use **split** to split up the string into a list of words:"
     ]
    },
    {
     "cell_type": "code",
     "collapsed": false,
     "input": [
      "#get the raw file data\n",
      "f = open('test.out' ,'r')\n",
      "file_contents = f.read()\n",
      "lines = file_contents.splitlines()\n",
      "f.close()\n",
      "\n",
      "for line in lines:\n",
      "    if 'leaves' in line:\n",
      "       leaf_colour = line.split()[4]\n",
      "        \n",
      "#let's get rid of the comma at the end of the line\n",
      "leaf_colour = leaf_colour[:-1]\n",
      "print(leaf_colour)"
     ],
     "language": "python",
     "metadata": {},
     "outputs": []
    },
    {
     "cell_type": "markdown",
     "metadata": {},
     "source": [
      "Copy and paste the code from the cell above into the cell bellow and modify it so that it prints out the colour of the sky instead of the colour of the leaves."
     ]
    },
    {
     "cell_type": "code",
     "collapsed": false,
     "input": [],
     "language": "python",
     "metadata": {},
     "outputs": []
    },
    {
     "cell_type": "markdown",
     "metadata": {},
     "source": [
      "## parsing\n",
      "Very often we deal with some data that we want to fit to some sort of expected behaviour. Say we have the following:"
     ]
    },
    {
     "cell_type": "code",
     "collapsed": false,
     "input": [
      "raw_data = \"\"\"\\\n",
      "3.1905781584582433,0.028208609537968457\n",
      "4.346895074946466,0.007160804747670053\n",
      "5.374732334047101,0.0046962988461934805\n",
      "8.201284796573875,0.0004614473299618756\n",
      "10.899357601713055,0.00005038370219939726\n",
      "16.295503211991434,4.377451812785309e-7\n",
      "21.82012847965739,3.0799922117601088e-9\n",
      "32.48394004282656,1.524776208284536e-13\n",
      "43.53319057815846,5.5012073588707224e-18\"\"\""
     ],
     "language": "python",
     "metadata": {},
     "outputs": []
    },
    {
     "cell_type": "markdown",
     "metadata": {},
     "source": [
      "There's a section below on parsing CSV data. We'll steal the parser from that. For an explanation, skip ahead to that section. Otherwise, just assume that this is a way to parse that text into a numpy array that we can plot and do other analyses with."
     ]
    },
    {
     "cell_type": "code",
     "collapsed": false,
     "input": [
      "data = []\n",
      "for line in raw_data.splitlines():\n",
      "    words = line.split(',')\n",
      "    data.append([float(word) for word in words])\n",
      "data = np.array(data)"
     ],
     "language": "python",
     "metadata": {},
     "outputs": []
    },
    {
     "cell_type": "heading",
     "level": 2,
     "metadata": {},
     "source": [
      "Ne$_2$ dissociation"
     ]
    },
    {
     "cell_type": "markdown",
     "metadata": {},
     "source": [
      "The function bellow is used latter to check your results are within a tolerance."
     ]
    },
    {
     "cell_type": "code",
     "collapsed": false,
     "input": [
      "def check_float(float_number, exact_answer):\n",
      "    tol = 1e-8\n",
      "    return abs(float_number - exact_answer) < tol"
     ],
     "language": "python",
     "metadata": {},
     "outputs": []
    },
    {
     "cell_type": "markdown",
     "metadata": {},
     "source": [
      "Often we come across the situation where we have a text file generated by one program and wish to extract some of the information and to do something else e.g. run another calculation or generate a graph.\n",
      "\n",
      "The file Ne.out contains an electronic structure calculation of the energy of a single Ne atom."
     ]
    },
    {
     "cell_type": "markdown",
     "metadata": {},
     "source": [
      "OK, now let's do something more useful: The file Ne.out contains an electronic structure calculation of the energy of a single Neon atom. We wish to extract the total energy. This is on a line that looks like:\n",
      "\n",
      "\n",
      "      * CCSD(T) total energy          = -128.680692864592714\n",
      "\n",
      "In the cell below remove 'pass' and in its place write some code that will set a variable named 'energy_str' to the string '-128.680692864592714' contained in the file. (You aren't allowed to cheat and use the fact you already know it will be exactly 128.680692864592714!)"
     ]
    },
    {
     "cell_type": "code",
     "collapsed": false,
     "input": [
      "#modify this cell\n",
      "f = open('Ne.out', 'r')\n",
      "file_contents = f.read()\n",
      "lines = file_contents.splitlines()\n",
      "f.close()\n",
      "\n",
      "for line in lines:\n",
      "        pass"
     ],
     "language": "python",
     "metadata": {},
     "outputs": []
    },
    {
     "cell_type": "markdown",
     "metadata": {},
     "source": [
      "Now we have extracted the energy as a string modify the code to generate a new variable named 'ne_energy' which contains the energy as a floating point number."
     ]
    },
    {
     "cell_type": "code",
     "collapsed": false,
     "input": [
      "#modify this cell\n",
      "f = open('Ne.out', 'r')\n",
      "lines = f.readlines()\n",
      "f.close()\n",
      "\n",
      "for line in lines:\n",
      "    pass"
     ],
     "language": "python",
     "metadata": {},
     "outputs": []
    },
    {
     "cell_type": "raw",
     "metadata": {},
     "source": [
      "The file Ne2.out contains energies for many different geometries of a Neon Dimer. We are going to extract these energies and geometries and plot the dissociation curve. \n",
      "\n",
      "The file has the following format:\n",
      ".\n",
      ".\n",
      ".       Some irrelevant stuff\n",
      ".\n",
      ".\n",
      "\n",
      "   Center              X                  Y                   Z\n",
      "------------   -----------------  -----------------  -----------------\n",
      "      NE          0.000000000000     0.000000000000    -0.250000000000\n",
      "      NE          0.000000000000     0.000000000000     0.250000000000\n",
      "\n",
      ".\n",
      ".\n",
      ".       Some more irrelevant stuff\n",
      ".\n",
      ".\n",
      "      * CCSD(T) total energy          = -128.680692864592714\n",
      ".\n",
      ".\n",
      ".       Some more irrelevant stuff\n",
      ".\n",
      ".\n",
      "\n",
      "This format is then repeated giving data for several different coordinates of Neon atom pairs (if this is confusing take a look at the file Ne2.out). Your task is to extract this information. As this is complex task we have broken it down into a number of simpler steps."
     ]
    },
    {
     "cell_type": "markdown",
     "metadata": {},
     "source": [
      "The coordinates of the two Ne atoms are specified in \u00c5:\n",
      "\n",
      "       Center              X                  Y                   Z\n",
      "    ------------   -----------------  -----------------  -----------------\n",
      "          NE          0.000000000000     0.000000000000    -0.250000000000\n",
      "          NE          0.000000000000     0.000000000000     0.250000000000\n",
      "\n",
      "Unfortunately the two lines have the same format so it is not quite as easy as before to extract the data, but we do know that whenever we find a 'Ne' symbol on the line we want to extract the next two lines.\n",
      "\n",
      "Study the following cell. In it the code goes through the file line by line, and prints out the Neon coordinates specifying which Neon atom the coordinates refer to:"
     ]
    },
    {
     "cell_type": "code",
     "collapsed": false,
     "input": [
      "#open and read the file\n",
      "f = open('Ne2.out', 'r')\n",
      "file_contents = f.read()\n",
      "lines = file_contents.splitlines()\n",
      "f.close()\n",
      "\n",
      "#we use a flag to indicate whether the next line with an 'Ne' in it will be the first or the second Neon atom\n",
      "first_Ne = True\n",
      "\n",
      "for line in lines:\n",
      "    #if we are on the line with the first Ne\n",
      "    if 'NE' in line.split() and first_Ne:\n",
      "        print('1: ' + line)\n",
      "        \n",
      "        #set the flag to false because the next line with Ne on will be the second Ne\n",
      "        first_Ne=False\n",
      "        \n",
      "    #we are on the line with second Ne\n",
      "    elif 'NE' in line.split() and not first_Ne:\n",
      "        print('2: ' + line)\n",
      "\n",
      "        #set the flag to true because the next line will Ne on with be the first Ne\n",
      "        first_Ne=True"
     ],
     "language": "python",
     "metadata": {},
     "outputs": []
    },
    {
     "cell_type": "markdown",
     "metadata": {},
     "source": [
      "Modify the cell below so that instead of printing the whole line out every time we find Neon coordinates, instead we just print out the x,y and z coordinates."
     ]
    },
    {
     "cell_type": "code",
     "collapsed": false,
     "input": [
      "#modify this cell\n",
      "f = open('Ne2.out', 'r')\n",
      "lines = f.readlines()\n",
      "f.close()\n",
      "\n",
      "first_Ne= True\n",
      "for line in lines:\n",
      "    #we are on the line with the first Ne\n",
      "    if 'NE' in line.split() and first_Ne:\n",
      "\n",
      "        #set the flag to false because the next line with Ne on will be the second Ne\n",
      "        first_Ne=False\n",
      "    #we are on the line with second Ne\n",
      "    elif 'NE' in line.split() and not first_Ne:\n",
      "\n",
      "        #set the flag to true because the next line with Ne on will be the first Ne\n",
      "        first_Ne=True"
     ],
     "language": "python",
     "metadata": {},
     "outputs": []
    },
    {
     "cell_type": "markdown",
     "metadata": {},
     "source": [
      "OK the task now is to generate a list of distances between the Neon atoms in the dimers. Above you have found a method for distinguishing between the first and second atoms in each dimer and have used it to print out the coordinates of each atom. Below is a function to calculate the distance between two atoms given the coordinates of each in Cartesian coordinates (x1, y1, z1) and (x2, y2, z2). (Make sure you understand how it works):"
     ]
    },
    {
     "cell_type": "code",
     "collapsed": false,
     "input": [
      "def vect_dist(x1, y1, z1, x2, y2, z2):\n",
      "    distance = sqrt( (x1-x2)**2 + (y1-y2)**2 + (z1-z2)**2 )\n",
      "    return(distance)"
     ],
     "language": "python",
     "metadata": {},
     "outputs": []
    },
    {
     "cell_type": "markdown",
     "metadata": {},
     "source": [
      "Can you see how to use the ***vect_dist** function in combination with your previous solution and some functions you've already used to generate the required list of distances?\n",
      "\n",
      "Copy and paste your solution from the cell two above into the cell below. Modify it to call the vect_dist function every time we find the second Neon atom and append the answer to the list 'dist'."
     ]
    },
    {
     "cell_type": "code",
     "collapsed": false,
     "input": [
      "dist=[]\n",
      "\n",
      "#enter your code here"
     ],
     "language": "python",
     "metadata": {},
     "outputs": []
    },
    {
     "cell_type": "markdown",
     "metadata": {},
     "source": [
      "Here is a good point to check you answer run the cell bellow and check the output is the same:"
     ]
    },
    {
     "cell_type": "code",
     "collapsed": false,
     "input": [
      "correct_answer = [2.3, 2.35, 2.40, 2.45, 2.5, 2.55, 2.60, 2.65, 2.70, 2.75, 2.80, 2.95, 3.00, 3.05 , 3.10, 3.15, 3.20, 3.25, 3.3, 3.35]\n",
      "correct = True\n",
      "for i,d in enumerate(dist):\n",
      "    if not check_float(d, correct_answer[i]):\n",
      "        correct = False\n",
      "\n",
      "if correct:\n",
      "    print('Success')\n",
      "else:\n",
      "    print(\"The lists don't match, check your above solutions.\")"
     ],
     "language": "python",
     "metadata": {},
     "outputs": []
    },
    {
     "cell_type": "markdown",
     "metadata": {},
     "source": [
      "Copy and paste your solution which extracts the distances above and add in code to extract the energy associated with each Neon pair. Recall the format of the file specified at the beginning of this exercise (you should be able to adapt your earlier solution to extract the energy from the Ne.out file). Place this in a list called energies."
     ]
    },
    {
     "cell_type": "code",
     "collapsed": false,
     "input": [
      "dist=[]\n",
      "energies=[]\n",
      "\n",
      "#enter your code here"
     ],
     "language": "python",
     "metadata": {},
     "outputs": []
    },
    {
     "cell_type": "markdown",
     "metadata": {},
     "source": [
      "Again here is a good point to check you answer run the cell bellow and check the output is the same:"
     ]
    },
    {
     "cell_type": "code",
     "collapsed": false,
     "input": [
      "correct_answer = [-257.35961064714644, -257.3602203016917, -257.3606695111796, -257.3609925808868, -257.36121774835453, -257.3613681862958, -257.36146276795836, -257.3615166804277, -257.3615419463744, -257.3615478902172, -257.36154156629686, -257.36149354664656, -257.36147640080674, -257.361460788562, -257.361447142686, -257.3614355791732, -257.3614260155646, -257.36141825755266, -257.36141205999513, -257.3614071664569]\n",
      "correct = True\n",
      "for i,d in enumerate(energies):\n",
      "    if not check_float(d, correct_answer[i]):\n",
      "        correct = False\n",
      "\n",
      "if correct:\n",
      "    print('Success')\n",
      "else:\n",
      "    print(\"The lists don't match, check your above solutions.\")\n",
      "\n",
      "correct_answer = [2.3, 2.35, 2.40, 2.45, 2.5, 2.55, 2.60, 2.65, 2.70, 2.75, 2.80, 2.95, 3.00, 3.05 , 3.10, 3.15, 3.20, 3.25, 3.3, 3.35]\n",
      "\n",
      "correct = True\n",
      "for i,d in enumerate(dist):\n",
      "    if not check_float(d, correct_answer[i]):\n",
      "        correct = False\n",
      "\n",
      "if correct:\n",
      "    print('Success')\n",
      "else:\n",
      "    print(\"The lists don't match, check your above solutions.\")"
     ],
     "language": "python",
     "metadata": {},
     "outputs": []
    },
    {
     "cell_type": "markdown",
     "metadata": {},
     "source": [
      "Congratulations if you have got this far you have successfully extracted the energies for Ne$_2$ dissociation.\n",
      "----------------------------------------------------------------------------------------------------------------------\n",
      "\n",
      "Now we are going to use this data to do some interesting things. First remember that we can plot data using matplotlib, so lets have a look at the data we have extracted by running the cell below:"
     ]
    },
    {
     "cell_type": "code",
     "collapsed": false,
     "input": [
      "xlabel('Ne - Ne Bond Distance ($\\AA$)')\n",
      "ylabel('Energy (Hartree)')\n",
      "plot(dist, energies, '+')"
     ],
     "language": "python",
     "metadata": {},
     "outputs": []
    },
    {
     "cell_type": "markdown",
     "metadata": {},
     "source": [
      "Often in chemistry we care about relative energies. Lets subtract twice the energy of a free Ne atom (which you've set previously to the *ne_energy* variable) to find out how interaction energy varies with distance. We convert here to numpy arrays to make the following section easier."
     ]
    },
    {
     "cell_type": "code",
     "collapsed": false,
     "input": [
      "energies = np.array(energies)\n",
      "dist = np.array(dist)"
     ],
     "language": "python",
     "metadata": {},
     "outputs": []
    },
    {
     "cell_type": "markdown",
     "metadata": {},
     "source": [
      "Now a choice of curves often used to model dissociation is the Lennard-Jones 6-12 Potential:\n",
      "\n",
      "\\begin{equation}V(r) = 4 \\epsilon(( -(\\frac{\\sigma}{r})^6 + (\\frac{\\sigma}{r})^{12})\\end{equation}\n",
      "\n",
      "We will now attempt to fit the Lennard-Jones potential to our data."
     ]
    },
    {
     "cell_type": "code",
     "collapsed": false,
     "input": [
      "def lennard_jones(r, epsilon, sigma):\n",
      "    v =  4*epsilon*(-(sigma/r)**6 + (sigma/r)**12)\n",
      "    return(v)"
     ],
     "language": "python",
     "metadata": {},
     "outputs": []
    },
    {
     "cell_type": "markdown",
     "metadata": {},
     "source": [
      "This function looks like:"
     ]
    },
    {
     "cell_type": "code",
     "collapsed": false,
     "input": [
      "points = linspace(2.44, 6.0, 100)\n",
      "potential = lennard_jones(points, 1.3, 2.5)\n",
      "plot(points, potential)\n",
      "xlabel('Bond Distance')\n",
      "ylabel('Energy')"
     ],
     "language": "python",
     "metadata": {},
     "outputs": []
    },
    {
     "cell_type": "markdown",
     "metadata": {},
     "source": [
      "As $r \\to \\infty$, $V(r)=0$ so we must subtract twise the energy of a free Ne atom so that this is true."
     ]
    },
    {
     "cell_type": "code",
     "collapsed": false,
     "input": [
      "energies = energies - 2*ne_energy"
     ],
     "language": "python",
     "metadata": {},
     "outputs": []
    },
    {
     "cell_type": "markdown",
     "metadata": {},
     "source": [
      "We will now attempt to fit the Lennard-Jones potential to our data. p0=(epsilon, sigma) specifies the guess for epsilon, sigma."
     ]
    },
    {
     "cell_type": "code",
     "collapsed": false,
     "input": [
      "from scipy.optimize import curve_fit\n",
      "\n",
      "params, conv = curve_fit(lennard_jones, dist, energies, p0=(0.00018, 2.6))\n",
      "epsilon_opt = params[0]\n",
      "sigma_opt = params[1]\n",
      "\n",
      "dist_lj = linspace(max(dist), min(dist), 100)\n",
      "energies_lj = lennard_jones(dist_lj , epsilon_opt, sigma_opt)\n",
      "\n",
      "plot(dist, energies, '+')\n",
      "plot(dist_lj, energies_lj)\n",
      "xlabel('Ne - Ne Bond Distance ($\\AA$)')\n",
      "ylabel('Energy (Hartree)')"
     ],
     "language": "python",
     "metadata": {},
     "outputs": []
    },
    {
     "cell_type": "markdown",
     "metadata": {},
     "source": [
      "An alternative function used to fit dissociation curves is the Morse potential:\n",
      "\n",
      "\\begin{equation}\n",
      "V(r) = d ((1 - e^{-a(r - r_e)})^2 - 1)\n",
      "\\end{equation}\n",
      "\n",
      "Write a function to compute the Morse potential with r, r_e, d and a as arguments to the function. Making sure the arguments are in the order r, r_e, d, a and call the function morse."
     ]
    },
    {
     "cell_type": "code",
     "collapsed": false,
     "input": [],
     "language": "python",
     "metadata": {},
     "outputs": []
    },
    {
     "cell_type": "markdown",
     "metadata": {},
     "source": [
      "Again here is a good point to check you answer run the cell bellow to check your work."
     ]
    },
    {
     "cell_type": "code",
     "collapsed": false,
     "input": [
      "if check_float(morse(2.0, 1.0, 3.2, 5.2) , -0.035208628347242053 ):\n",
      "    print('Well Done your Morse function works.')\n",
      "else:\n",
      "    print('Your Morse function is wrong!')"
     ],
     "language": "python",
     "metadata": {},
     "outputs": []
    },
    {
     "cell_type": "raw",
     "metadata": {},
     "source": [
      "The Morse potential looks like:"
     ]
    },
    {
     "cell_type": "code",
     "collapsed": false,
     "input": [
      "points = linspace(1.95, 8.0, 100)\n",
      "potential = morse(points, 2.92, 1.3, 0.9)\n",
      "plot(points, potential)\n",
      "xlabel('Bond Distance')\n",
      "ylabel('Energy')"
     ],
     "language": "python",
     "metadata": {},
     "outputs": []
    },
    {
     "cell_type": "markdown",
     "metadata": {},
     "source": [
      "Repeat the curve fit for the Morse potential and plot both results in the cell bellow (use r_e=2.3, d=0.0018, a=14) as an intial guess for the fitting function:"
     ]
    },
    {
     "cell_type": "code",
     "collapsed": false,
     "input": [],
     "language": "python",
     "metadata": {},
     "outputs": []
    },
    {
     "cell_type": "code",
     "collapsed": false,
     "input": [
      "if check_float(r_e_opt, 2.29433487861) and check_float(d_opt, -0.00177961173998) and check_float(a_opt, 14.9232881311):\n",
      "    print('Well Done you have finished the mini project in the final workshop!')\n",
      "else:\n",
      "    print('Check the curve fit calculation for the Morse potential')"
     ],
     "language": "python",
     "metadata": {},
     "outputs": []
    },
    {
     "cell_type": "markdown",
     "metadata": {},
     "source": [
      "Well Done you have finished the final workshop\n",
      "----------------------------------------------"
     ]
    }
   ],
   "metadata": {}
  }
 ]
}