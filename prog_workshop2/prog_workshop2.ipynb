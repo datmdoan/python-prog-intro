{
 "metadata": {
  "name": "",
  "signature": "sha256:c01003bdb347cb4eba69a14de77952fde02d563dedb0b9920a68473aa7e44519"
 },
 "nbformat": 3,
 "nbformat_minor": 0,
 "worksheets": [
  {
   "cells": [
    {
     "cell_type": "heading",
     "level": 1,
     "metadata": {},
     "source": [
      "Introduction to programming 2"
     ]
    },
    {
     "cell_type": "heading",
     "level": 2,
     "metadata": {},
     "source": [
      "Revision on data types, lists, an a little more"
     ]
    },
    {
     "cell_type": "markdown",
     "metadata": {},
     "source": [
      "In the previous workshop of this series we looked at different data types used in programing, and associated operations. Different types of numbers (integers, floating point, complex); strings; booleans; and the data grouping type list. The function *type()* tests for the data type of a given object.\n",
      "\n",
      "    one=1\n",
      "    type(one==1)"
     ]
    },
    {
     "cell_type": "code",
     "collapsed": false,
     "input": [],
     "language": "python",
     "metadata": {},
     "outputs": []
    },
    {
     "cell_type": "markdown",
     "metadata": {},
     "source": [
      "Do you apreciate the difference between '=' and '==' above?\n",
      "The following expression encapsulates several of the concepts introduced in the previous workshop\n",
      "\n",
      "    mixtype=[1.0,\"1\",1,2j**2/(-4),[3**0]]"
     ]
    },
    {
     "cell_type": "code",
     "collapsed": false,
     "input": [],
     "language": "python",
     "metadata": {},
     "outputs": []
    },
    {
     "cell_type": "markdown",
     "metadata": {},
     "source": [
      "What is the data type of the variable just defined?"
     ]
    },
    {
     "cell_type": "code",
     "collapsed": false,
     "input": [],
     "language": "python",
     "metadata": {},
     "outputs": []
    },
    {
     "cell_type": "markdown",
     "metadata": {},
     "source": [
      "Can you identify the data type of all elements of the mixtype list? Use the cell below to test the different elements of the list."
     ]
    },
    {
     "cell_type": "code",
     "collapsed": false,
     "input": [],
     "language": "python",
     "metadata": {},
     "outputs": []
    },
    {
     "cell_type": "markdown",
     "metadata": {},
     "source": [
      "What is the data type of the element inside the last element of mixtype?"
     ]
    },
    {
     "cell_type": "code",
     "collapsed": false,
     "input": [],
     "language": "python",
     "metadata": {},
     "outputs": []
    },
    {
     "cell_type": "markdown",
     "metadata": {},
     "source": [
      "How to proceed to retrieve last three elements of mixtype?"
     ]
    },
    {
     "cell_type": "code",
     "collapsed": false,
     "input": [],
     "language": "python",
     "metadata": {},
     "outputs": []
    },
    {
     "cell_type": "markdown",
     "metadata": {},
     "source": [
      "To achieve these tasks we have retrieved parts of the content of the list by specifying its position on the list, or equivalently its index. We can also test for the presence of a given element inside the list by using the keyword *in*\n",
      "\n",
      "    0 in mixtype"
     ]
    },
    {
     "cell_type": "code",
     "collapsed": false,
     "input": [],
     "language": "python",
     "metadata": {},
     "outputs": []
    },
    {
     "cell_type": "markdown",
     "metadata": {},
     "source": [
      "Note that the output of the operation is not the element of the list but a boolean. The construction\n",
      "\n",
      "    0 in mixtype\n",
      "\n",
      "could be translated into english as the question\n",
      "\n",
      "    Is 0 inside mixtype?\n",
      "    \n",
      "This is a \"yes or no\" question, and thus the boolean reply.\n",
      "\n",
      "Now pose a \"question\" on mixtype that would be True."
     ]
    },
    {
     "cell_type": "code",
     "collapsed": false,
     "input": [],
     "language": "python",
     "metadata": {},
     "outputs": []
    },
    {
     "cell_type": "markdown",
     "metadata": {},
     "source": [
      "In the last workshop we noticed the analogy between lists and strings. The keyword *in* can also be used to test for substrings inside strings\n",
      "\n",
      "    \"banana\" in \"banarama\""
     ]
    },
    {
     "cell_type": "code",
     "collapsed": false,
     "input": [],
     "language": "python",
     "metadata": {},
     "outputs": []
    },
    {
     "cell_type": "markdown",
     "metadata": {},
     "source": [
      "We can use the boolean result of this operation in an *if* statement\n",
      "\n",
      "    if \"banana\" in \"bananarama\":\n",
      "        result=\"I love the eighties!\"\n",
      "    else\n",
      "        result=\"Please choose a more exciting fruit\"\n",
      "        \n",
      "    result"
     ]
    },
    {
     "cell_type": "code",
     "collapsed": false,
     "input": [],
     "language": "python",
     "metadata": {},
     "outputs": []
    },
    {
     "cell_type": "heading",
     "level": 2,
     "metadata": {},
     "source": [
      "Repeating instructions: loops"
     ]
    },
    {
     "cell_type": "markdown",
     "metadata": {},
     "source": [
      "The main use of machines is to do things people cannot do, or to repeat the same task many times over. Computers are particularly suited to repeat logical tasks, and can do this in a much more efficient way than people. When programming a computer, repeating tasks is achieved via *loops*, which are a corner stone of many programming languages.\n",
      "\n",
      "In Python there are two types of loops: *for* loops are used when the number of repetitions is known *a priori*; *while* loops repeat the instruction until a specific test condition fails. We will look at how these two types of loops work in more detail."
     ]
    },
    {
     "cell_type": "heading",
     "level": 3,
     "metadata": {},
     "source": [
      "For loops"
     ]
    },
    {
     "cell_type": "markdown",
     "metadata": {},
     "source": [
      "Before starting looking at *for* loops, it is useful to look at the function *range()*. In doing so, we remind ourselves of how to obtain information about a particular function, or any other defined object. This is done by appending a question mark after the object name\n",
      "\n",
      "    range?"
     ]
    },
    {
     "cell_type": "code",
     "collapsed": false,
     "input": [],
     "language": "python",
     "metadata": {},
     "outputs": []
    },
    {
     "cell_type": "markdown",
     "metadata": {},
     "source": [
      "On the window that poped up below, we can see the information about what the function *range* does. You should not be shy about using this functionality, use it whenever you have doubts about what a given object is or does.\n",
      "\n",
      "As the documentation about the function suggets, the range() function generates a virtual sequence of numbers, a sort of a counter, technically an iterator. If we use the function on its own we don't quite see what is happening\n",
      "\n",
      "    range(6)"
     ]
    },
    {
     "cell_type": "code",
     "collapsed": false,
     "input": [],
     "language": "python",
     "metadata": {},
     "outputs": []
    },
    {
     "cell_type": "markdown",
     "metadata": {},
     "source": [
      "Things become clearer when we make the result of the function range() explicit by transforming it into a list\n",
      "\n",
      "    list(range(6))"
     ]
    },
    {
     "cell_type": "code",
     "collapsed": false,
     "input": [],
     "language": "python",
     "metadata": {},
     "outputs": []
    },
    {
     "cell_type": "markdown",
     "metadata": {},
     "source": [
      "When the function range is called with one argument, range() creates a sequence of numbers starting from 0 up to, but not including, the number specified. In this case, a sequence starting from 0 and ending in 5.\n",
      "\n",
      "A sequence starting on any other value can be created, by calling range() with 2 arguments\n",
      "\n",
      "    list(range(2,6))"
     ]
    },
    {
     "cell_type": "code",
     "collapsed": false,
     "input": [],
     "language": "python",
     "metadata": {},
     "outputs": []
    },
    {
     "cell_type": "markdown",
     "metadata": {},
     "source": [
      "The number sequence is incremented by one by default, but we can specify any other increment with a third argument\n",
      "\n",
      "    list(range(0,10,2))"
     ]
    },
    {
     "cell_type": "code",
     "collapsed": false,
     "input": [],
     "language": "python",
     "metadata": {},
     "outputs": []
    },
    {
     "cell_type": "markdown",
     "metadata": {},
     "source": [
      "A decreasing sequence can be specifies with a negative step value, and in this case the start of the sequence is greater than the end\n",
      "\n",
      "    list(range(6,0,-1))"
     ]
    },
    {
     "cell_type": "code",
     "collapsed": false,
     "input": [],
     "language": "python",
     "metadata": {},
     "outputs": []
    },
    {
     "cell_type": "markdown",
     "metadata": {},
     "source": [
      "Now that we have a counter at hand, we can use it to guide a for loop. A very simple piece of code involving a for loop, that repeatedly prints a string to the screen, would be:\n",
      "\n",
      "    for i in range(20):\n",
      "        print(\"All work and no play makes Jack a dull boy.\")\n",
      "    print(\"I had enough!\")"
     ]
    },
    {
     "cell_type": "code",
     "collapsed": false,
     "input": [],
     "language": "python",
     "metadata": {},
     "outputs": []
    },
    {
     "cell_type": "markdown",
     "metadata": {},
     "source": [
      "Let us analyse in a bit more detail how this code is operating. The first line\n",
      "\n",
      "    for i in range(20):\n",
      "    \n",
      "iniciates the loop. In plain english it could read something like:\n",
      "\n",
      "    For each element we choose to call 'i' in the virtual counter range(20), execute the code that follows.\n",
      "\n",
      "Since our virtual counter has 20 elements, the loop will run 20 times.\n",
      "\n",
      "As with the *if* statement before, below the initial line and indented, we write the instructions to be executed at each loop cycle: the loop body. In this case, we print a string to the screen.\n",
      "\n",
      "The last print statement in our piece of code is not indented, it is **not** part of the loop body, and therefore will be executed after the loop has finished and only once.\n",
      "\n",
      "We re-examine the first line of the *for* loop to note that the element 'i' is a variable that takes on a different value of range(20) (in this case) for each cycle of the loop. As with any variable, we could have used any name that we see fit, and we could use that variable within the loop body\n",
      "\n",
      "    for counter_number in range(1,20,2):\n",
      "        print(\"Sheep number \",counter_number)\n",
      "    print(\"The shepherd counted\",counter_number,\"sheep\")"
     ]
    },
    {
     "cell_type": "code",
     "collapsed": false,
     "input": [],
     "language": "python",
     "metadata": {},
     "outputs": []
    },
    {
     "cell_type": "markdown",
     "metadata": {},
     "source": [
      "Note that after the loop end the loop variable can still be used and has the last value assign.\n",
      "\n",
      "Instead of range(), we can also use any list in the loop definition. The loop variable will assume each value on the list, and the loop stops when the list reaches the end.\n",
      "\n",
      "    for item in [0,\"Wittgenstein\",1/137,\"\u5b54\u592b\u5b50\"]:\n",
      "        print(\"List element \",item)"
     ]
    },
    {
     "cell_type": "code",
     "collapsed": false,
     "input": [],
     "language": "python",
     "metadata": {},
     "outputs": []
    },
    {
     "cell_type": "markdown",
     "metadata": {},
     "source": [
      "So far we have looked only at very simple loop bodies with only one print statement. In general, the loop body will contain some more sophisticated operation\n",
      "\n",
      "    for item in [0,\"Wittgenstein\",1/137,\"\u5b54\u592b\u5b50\"]:\n",
      "        if type(item)==str:\n",
      "            print(item)\n",
      "        else:\n",
      "            print(\"Do not bother\")"
     ]
    },
    {
     "cell_type": "code",
     "collapsed": false,
     "input": [],
     "language": "python",
     "metadata": {},
     "outputs": []
    },
    {
     "cell_type": "markdown",
     "metadata": {},
     "source": [
      "*Loops are a fundamental part of programming, it is very important that you understand how they work. If there is anything that is not clear in the examples above, please ask a demonstrator.*"
     ]
    },
    {
     "cell_type": "heading",
     "level": 4,
     "metadata": {},
     "source": [
      "Some loops in action"
     ]
    },
    {
     "cell_type": "markdown",
     "metadata": {},
     "source": [
      "Loops are the work hourse of many programs, and when writing programs the future more often than not you will be using at least one loop. Now that we have some basic understanding of the *for* loop functionality, we will look at some examples where it is used to perform some meaningful tasks."
     ]
    },
    {
     "cell_type": "code",
     "collapsed": false,
     "input": [],
     "language": "python",
     "metadata": {},
     "outputs": []
    },
    {
     "cell_type": "heading",
     "level": 3,
     "metadata": {},
     "source": [
      "While loops"
     ]
    },
    {
     "cell_type": "heading",
     "level": 2,
     "metadata": {},
     "source": [
      "Summary"
     ]
    },
    {
     "cell_type": "heading",
     "level": 2,
     "metadata": {},
     "source": [
      "Packaging more complex instructions"
     ]
    },
    {
     "cell_type": "markdown",
     "metadata": {},
     "source": [
      "Up to now we have looked at relatively simple operations: mathematical operations on numbers, simple operations on strings, etc. To perform more complex operations on data we will be using two mechanisms made available by the Python language: *functions* and *methods*.\n",
      "\n",
      "So far we have already came across some simple functions, such as type(), len(), float(), print() or range(). To make use of a function, the general syntax is:\n",
      "\n",
      "    function_name(function_arguments)\n",
      "    \n",
      "and we will obtain the result of the function operation on the argument. In the example\n",
      "    \n",
      "    len(\"count me in\")"
     ]
    },
    {
     "cell_type": "code",
     "collapsed": false,
     "input": [],
     "language": "python",
     "metadata": {},
     "outputs": []
    },
    {
     "cell_type": "markdown",
     "metadata": {},
     "source": [
      "len is the function name, which as we have seen counts the number of characters in a string; \"count me in\" is the string the function is operating on; the result of the operation is on the Out[] cell. Naturaly we can store the result of the function on a variable\n",
      "\n",
      "    letter_count=len(\"count me in\")"
     ]
    },
    {
     "cell_type": "code",
     "collapsed": false,
     "input": [],
     "language": "python",
     "metadata": {},
     "outputs": []
    },
    {
     "cell_type": "markdown",
     "metadata": {},
     "source": [
      "    letter_count"
     ]
    },
    {
     "cell_type": "code",
     "collapsed": false,
     "input": [],
     "language": "python",
     "metadata": {},
     "outputs": []
    },
    {
     "cell_type": "markdown",
     "metadata": {},
     "source": [
      "Functions can accept more than one argument, in which case they are separated by commas.\n",
      "\n",
      "    days=365\n",
      "    print(\"A year has\",days,\"days\")"
     ]
    },
    {
     "cell_type": "code",
     "collapsed": false,
     "input": [],
     "language": "python",
     "metadata": {},
     "outputs": []
    },
    {
     "cell_type": "markdown",
     "metadata": {},
     "source": [
      "The print functions is being called with 3 arguments, two strings and one variable which is a number. Note once more that print does not give an output, it is just printing to the screen all the arguments separated by spaces. It is thus not very useful to assign the result of print to a variable\n",
      "\n",
      "    unresult=print(\"pointless\")"
     ]
    },
    {
     "cell_type": "code",
     "collapsed": false,
     "input": [],
     "language": "python",
     "metadata": {},
     "outputs": []
    },
    {
     "cell_type": "markdown",
     "metadata": {},
     "source": [
      "    unresult"
     ]
    },
    {
     "cell_type": "code",
     "collapsed": false,
     "input": [],
     "language": "python",
     "metadata": {},
     "outputs": []
    },
    {
     "cell_type": "markdown",
     "metadata": {},
     "source": [
      "There are a number of inbuilt functions in python to perform different tasks, these are listed in the [official documentation](http://docs.python.org/3/library/functions.html), we will make use of a few relevant ones but shall otherwise not insist on them. Much more useful will be to build our own custom made functions. We will see how to do this presently, but first we will look at another mechanism we haven't encoutered yet: *methods*.\n",
      "\n",
      "Methods are similar to functions but they are more tightly related to the objects they act on. For example, a pertinent operation when operating on strings would be to give the same string all in capital letters. This can be done via a specific string method.\n",
      "First let us define the string variable\n",
      "\n",
      "    a=\"i shall be big\""
     ]
    },
    {
     "cell_type": "code",
     "collapsed": false,
     "input": [],
     "language": "python",
     "metadata": {},
     "outputs": []
    },
    {
     "cell_type": "markdown",
     "metadata": {},
     "source": [
      "To check what specific methods are available to strings, we can write the variable name followed by a dot '.' and press the tab key on the keyboad\n",
      "\n",
      "    a."
     ]
    },
    {
     "cell_type": "code",
     "collapsed": false,
     "input": [],
     "language": "python",
     "metadata": {},
     "outputs": []
    },
    {
     "cell_type": "markdown",
     "metadata": {},
     "source": [
      "In the drop-down list all methods that can be applied to variable *a* are displayed. The method *.upper()* is the one that will perform our intended task\n",
      "\n",
      "    a.upper()"
     ]
    },
    {
     "cell_type": "code",
     "collapsed": false,
     "input": [],
     "language": "python",
     "metadata": {},
     "outputs": []
    },
    {
     "cell_type": "markdown",
     "metadata": {},
     "source": [
      "The general syntax is thus\n",
      "\n",
      "    variable_name.method_name(optional_arguments)\n",
      "\n",
      "During this course we shall not be defining our own methods, but we will be using some useful pre-existing ones."
     ]
    },
    {
     "cell_type": "heading",
     "level": 3,
     "metadata": {},
     "source": [
      "Defining new functions"
     ]
    },
    {
     "cell_type": "markdown",
     "metadata": {},
     "source": [
      "Any moderatly useful program can become big, encompassing hundreds or thousands of lines of code. In order to work with such codes in a manageble way, it is important to group code functionality in logical pieces that perform a specific task, and that can be reused whenever needed.\n",
      "Creating our own functions is a way of packaging such functionality.\n",
      "\n",
      "As with variables above, there is an analogy between functions in programming and in mathematics.\n",
      "A mathematical function is an operation that receives a number as an argument and returns another number based on the value of the argument. When we write the mathematical expression\n",
      "\n",
      "$$f(x)=x^2-1 ,$$\n",
      "\n",
      "we are defining an operation named $f$, which for a given value of the argument $x$ will give back a result $x^2-1$. Once more, $x$ takes one particular value at the time, it can be any value, but only one each time.\n",
      "\n",
      "While in mathematics, functions mostly receive numbers and return numbers, in programming the concept of a function is largely extended. As we've seen above for example, functions can return strings, or receive strings as arguments and return numbers, or package any other type of instruction. One simple idea remains: functions are operations that receive arguments and return a result based on the arguments it has received.\n",
      "\n",
      "Let us look at a practical example and how we would convert it into a function. Let us consider the case where we have two strings, str1 and str2, and we want to form one string from these two joined by a dash '-'.\n",
      "\n",
      "    str1=\"post\"\n",
      "    str2=\"meridiem\"\n",
      "    \n",
      "How would you accomplish the task in this case?"
     ]
    },
    {
     "cell_type": "code",
     "collapsed": false,
     "input": [],
     "language": "python",
     "metadata": {},
     "outputs": []
    },
    {
     "cell_type": "markdown",
     "metadata": {},
     "source": [
      "This task was relativelly simple, but if we want to repeat it for 300 other pairs of strings, even for such a simple task, we could benefit from encapsulating this operation into a function. We will call our function *merge*\n",
      "\n",
      "    def merge(a,b):\n",
      "        \"Merge two strings with a dash.\"\n",
      "        c= a + '-' + b\n",
      "        return c"
     ]
    },
    {
     "cell_type": "code",
     "collapsed": false,
     "input": [],
     "language": "python",
     "metadata": {},
     "outputs": []
    },
    {
     "cell_type": "markdown",
     "metadata": {},
     "source": [
      "We will analyse how the function definition works, but first you should use the function merge we just defined to accomplish the same result as above."
     ]
    },
    {
     "cell_type": "code",
     "collapsed": false,
     "input": [],
     "language": "python",
     "metadata": {},
     "outputs": []
    },
    {
     "cell_type": "heading",
     "level": 4,
     "metadata": {},
     "source": [
      "Step 1: function signature"
     ]
    },
    {
     "cell_type": "markdown",
     "metadata": {},
     "source": [
      "The function *signature* corresponds to the first line in the function definition and specifies some important information\n",
      "\n",
      "    def merge(a,b):\n",
      "\n",
      "It starts with the keyword *def*, which tells Python that we are *defining* a function. Then comes a space, and the name of our function, in this case *merge*. After, an open parenthesis, the comma-separated function arguments. In this case the function has two arguments we are calling *a* and *b*. After the arguments, a close parenthesis, and a colon.\n",
      "\n",
      "The number of arguments depends highly on what the function does. We can even have a function with no arguments\n",
      "\n",
      "    def function_name():\n",
      "\n",
      "or one argument\n",
      "\n",
      "    def function_name(x1):\n",
      "\n",
      "or any other number of arguments.\n",
      "\n",
      "An important point to note is that the argument labels *a* and *b* we chose for our function are not variables we may have defined outside the function. They will be \"names\" used solely inside the function, just as the $x$ in $f(x)=x^2$ is just a label that could be called $w$ as in $f(w)=w^2$."
     ]
    },
    {
     "cell_type": "heading",
     "level": 4,
     "metadata": {},
     "source": [
      "Step 1.5: document string"
     ]
    },
    {
     "cell_type": "markdown",
     "metadata": {},
     "source": [
      "After our signature line we can add a piece of text enclosed in quotes explaining to the human reader what the function is doing.\n",
      "\n",
      "    def merge(a,b):\n",
      "        \"Merge two strings with a dash.\"\n",
      "        \n",
      "This is a matter of best practice. When functions get very complicated and many lines long, or we start having many functions to work with, it is very useful to have a short explanation text.\n",
      "\n",
      "The docstring is shown when the question mark is used to gather information about the function\n",
      "\n",
      "    merge?"
     ]
    },
    {
     "cell_type": "code",
     "collapsed": false,
     "input": [],
     "language": "python",
     "metadata": {},
     "outputs": []
    },
    {
     "cell_type": "heading",
     "level": 4,
     "metadata": {},
     "source": [
      "Step 2: do useful work inside the function"
     ]
    },
    {
     "cell_type": "markdown",
     "metadata": {},
     "source": [
      "Underneath the function signature and document string  we do the useful work. As with if statements before, **everything inside the function is indented**, so Python knows that it is a part of the function.\n",
      "\n",
      "    def merge(a,b):\n",
      "        \"Adds two numbers.\"\n",
      "        c= a + '-' + b\n",
      "        \n",
      "In the function body we ca use the function arguments *a* and *b* just as we have used variables. In this case we are storing the result of the operation *a + '-' + b* into the local variable *c*. It is important to note that both the function arguments *a* and *b*, as well as variables defined inside the function, are not afected by the values of the variables of the same name defined outside the function\n",
      "\n",
      "    a=1\n",
      "    b=2\n",
      "    c=3\n",
      "    merge('no','entry')"
     ]
    },
    {
     "cell_type": "code",
     "collapsed": false,
     "input": [],
     "language": "python",
     "metadata": {},
     "outputs": []
    },
    {
     "cell_type": "markdown",
     "metadata": {},
     "source": [
      "We can check what value the variable c at the moment\n",
      "\n",
      "    c"
     ]
    },
    {
     "cell_type": "code",
     "collapsed": false,
     "input": [],
     "language": "python",
     "metadata": {},
     "outputs": []
    },
    {
     "cell_type": "markdown",
     "metadata": {},
     "source": [
      "We see that even though there is a variable *c* inside the function *merge*, which when we call the function will assume a given value, that variable is local to the function and is isolated from the global variable with the same name *c*, which concerves the same value as before."
     ]
    },
    {
     "cell_type": "heading",
     "level": 4,
     "metadata": {},
     "source": [
      "Step 3: return something"
     ]
    },
    {
     "cell_type": "markdown",
     "metadata": {},
     "source": [
      "Although it is possible to create functions which produce no output (the function *print* is an example of this), most functions yield an output of one form or the other, such that it can be assigned to a variable.\n",
      "\n",
      "The output of a function is controled by the *return* keyword\n",
      "\n",
      "    def merge(a,b):\n",
      "        \"Merge two strings with a dash.\"\n",
      "        c= a + '-' + b\n",
      "        return c\n",
      "\n",
      "In the case of the function *merge*, the output will be the value of the local variable *c* defined in the body of the funnction.\n",
      "\n",
      "We could have defined the function *merge* without making use of the local variable *c* and giving exactly the same output\n",
      "\n",
      "    def merge(a,b):\n",
      "        \"Merge two strings with a dash.\"\n",
      "        return a + '-' + b\n",
      "        \n",
      "\n",
      "Once the *return* statement of the function is executed, we are done with the function -- we don't get to do any more work. That means if we have a function like this:\n",
      "\n",
      "    def merge(a,b):\n",
      "        \"Merge two strings with a dash.\"\n",
      "        c= a + '-' + b\n",
      "        return c\n",
      "        print(\"This is meant to be really clever!\")\n",
      "        \n",
      "The print statement will never be executed. Try it below."
     ]
    },
    {
     "cell_type": "code",
     "collapsed": false,
     "input": [],
     "language": "python",
     "metadata": {},
     "outputs": []
    },
    {
     "cell_type": "markdown",
     "metadata": {},
     "source": [
      "Now that we covered how to define functions, define the function $f(x)=x^2-1$ we considered above. Do not forget to give an appropriate docstring."
     ]
    },
    {
     "cell_type": "code",
     "collapsed": false,
     "input": [],
     "language": "python",
     "metadata": {},
     "outputs": []
    },
    {
     "cell_type": "markdown",
     "metadata": {},
     "source": [
      "Use the function to produce a list with the results of the function $f$ for integer values of the argument between 0 and 10."
     ]
    },
    {
     "cell_type": "code",
     "collapsed": false,
     "input": [],
     "language": "python",
     "metadata": {},
     "outputs": []
    },
    {
     "cell_type": "heading",
     "level": 2,
     "metadata": {},
     "source": [
      "Summary"
     ]
    },
    {
     "cell_type": "code",
     "collapsed": false,
     "input": [],
     "language": "python",
     "metadata": {},
     "outputs": []
    }
   ],
   "metadata": {}
  }
 ]
}